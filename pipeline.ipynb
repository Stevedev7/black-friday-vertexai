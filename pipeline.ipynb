{
 "cells": [
  {
   "cell_type": "code",
   "execution_count": 1,
   "id": "2dcd7436-ffa8-48b5-a286-f4bb201c0a11",
   "metadata": {},
   "outputs": [],
   "source": [
    "USER_FLAG = \"--user\""
   ]
  },
  {
   "cell_type": "code",
   "execution_count": 2,
   "id": "7c42bf02-3b8c-4cbd-b38f-b9884ff71c7b",
   "metadata": {},
   "outputs": [
    {
     "name": "stdout",
     "output_type": "stream",
     "text": [
      "Collecting google-cloud-aiplatform==1.7.0\n",
      "  Downloading google_cloud_aiplatform-1.7.0-py2.py3-none-any.whl (1.6 MB)\n",
      "     |████████████████████████████████| 1.6 MB 7.8 MB/s            \n",
      "\u001b[?25hRequirement already satisfied: google-cloud-storage<2.0.0dev,>=1.32.0 in /opt/conda/lib/python3.7/site-packages (from google-cloud-aiplatform==1.7.0) (1.43.0)\n",
      "Requirement already satisfied: google-cloud-bigquery<3.0.0dev,>=1.15.0 in /opt/conda/lib/python3.7/site-packages (from google-cloud-aiplatform==1.7.0) (2.31.0)\n",
      "Requirement already satisfied: google-api-core[grpc]<3.0.0dev,>=1.26.0 in /opt/conda/lib/python3.7/site-packages (from google-cloud-aiplatform==1.7.0) (2.3.2)\n",
      "Requirement already satisfied: proto-plus>=1.10.1 in /opt/conda/lib/python3.7/site-packages (from google-cloud-aiplatform==1.7.0) (1.19.8)\n",
      "Requirement already satisfied: packaging>=14.3 in /opt/conda/lib/python3.7/site-packages (from google-cloud-aiplatform==1.7.0) (21.3)\n",
      "Requirement already satisfied: requests<3.0.0dev,>=2.18.0 in /opt/conda/lib/python3.7/site-packages (from google-api-core[grpc]<3.0.0dev,>=1.26.0->google-cloud-aiplatform==1.7.0) (2.26.0)\n",
      "Requirement already satisfied: setuptools>=40.3.0 in /opt/conda/lib/python3.7/site-packages (from google-api-core[grpc]<3.0.0dev,>=1.26.0->google-cloud-aiplatform==1.7.0) (59.6.0)\n",
      "Requirement already satisfied: googleapis-common-protos<2.0dev,>=1.52.0 in /opt/conda/lib/python3.7/site-packages (from google-api-core[grpc]<3.0.0dev,>=1.26.0->google-cloud-aiplatform==1.7.0) (1.53.0)\n",
      "Requirement already satisfied: protobuf>=3.12.0 in /opt/conda/lib/python3.7/site-packages (from google-api-core[grpc]<3.0.0dev,>=1.26.0->google-cloud-aiplatform==1.7.0) (3.19.1)\n",
      "Requirement already satisfied: google-auth<3.0dev,>=1.25.0 in /opt/conda/lib/python3.7/site-packages (from google-api-core[grpc]<3.0.0dev,>=1.26.0->google-cloud-aiplatform==1.7.0) (2.3.3)\n",
      "Requirement already satisfied: grpcio-status<2.0dev,>=1.33.2 in /opt/conda/lib/python3.7/site-packages (from google-api-core[grpc]<3.0.0dev,>=1.26.0->google-cloud-aiplatform==1.7.0) (1.43.0)\n",
      "Requirement already satisfied: grpcio<2.0dev,>=1.33.2 in /opt/conda/lib/python3.7/site-packages (from google-api-core[grpc]<3.0.0dev,>=1.26.0->google-cloud-aiplatform==1.7.0) (1.43.0)\n",
      "Requirement already satisfied: google-resumable-media<3.0dev,>=0.6.0 in /opt/conda/lib/python3.7/site-packages (from google-cloud-bigquery<3.0.0dev,>=1.15.0->google-cloud-aiplatform==1.7.0) (2.1.0)\n",
      "Requirement already satisfied: google-cloud-core<3.0.0dev,>=1.4.1 in /opt/conda/lib/python3.7/site-packages (from google-cloud-bigquery<3.0.0dev,>=1.15.0->google-cloud-aiplatform==1.7.0) (2.2.1)\n",
      "Requirement already satisfied: python-dateutil<3.0dev,>=2.7.2 in /opt/conda/lib/python3.7/site-packages (from google-cloud-bigquery<3.0.0dev,>=1.15.0->google-cloud-aiplatform==1.7.0) (2.8.2)\n",
      "Requirement already satisfied: six in /opt/conda/lib/python3.7/site-packages (from google-cloud-storage<2.0.0dev,>=1.32.0->google-cloud-aiplatform==1.7.0) (1.16.0)\n",
      "Requirement already satisfied: pyparsing!=3.0.5,>=2.0.2 in /opt/conda/lib/python3.7/site-packages (from packaging>=14.3->google-cloud-aiplatform==1.7.0) (3.0.6)\n",
      "Requirement already satisfied: cachetools<5.0,>=2.0.0 in /opt/conda/lib/python3.7/site-packages (from google-auth<3.0dev,>=1.25.0->google-api-core[grpc]<3.0.0dev,>=1.26.0->google-cloud-aiplatform==1.7.0) (4.2.4)\n",
      "Requirement already satisfied: pyasn1-modules>=0.2.1 in /opt/conda/lib/python3.7/site-packages (from google-auth<3.0dev,>=1.25.0->google-api-core[grpc]<3.0.0dev,>=1.26.0->google-cloud-aiplatform==1.7.0) (0.2.7)\n",
      "Requirement already satisfied: rsa<5,>=3.1.4 in /opt/conda/lib/python3.7/site-packages (from google-auth<3.0dev,>=1.25.0->google-api-core[grpc]<3.0.0dev,>=1.26.0->google-cloud-aiplatform==1.7.0) (4.8)\n",
      "Requirement already satisfied: google-crc32c<2.0dev,>=1.0 in /opt/conda/lib/python3.7/site-packages (from google-resumable-media<3.0dev,>=0.6.0->google-cloud-bigquery<3.0.0dev,>=1.15.0->google-cloud-aiplatform==1.7.0) (1.1.2)\n",
      "Requirement already satisfied: urllib3<1.27,>=1.21.1 in /opt/conda/lib/python3.7/site-packages (from requests<3.0.0dev,>=2.18.0->google-api-core[grpc]<3.0.0dev,>=1.26.0->google-cloud-aiplatform==1.7.0) (1.26.7)\n",
      "Requirement already satisfied: idna<4,>=2.5 in /opt/conda/lib/python3.7/site-packages (from requests<3.0.0dev,>=2.18.0->google-api-core[grpc]<3.0.0dev,>=1.26.0->google-cloud-aiplatform==1.7.0) (3.1)\n",
      "Requirement already satisfied: certifi>=2017.4.17 in /opt/conda/lib/python3.7/site-packages (from requests<3.0.0dev,>=2.18.0->google-api-core[grpc]<3.0.0dev,>=1.26.0->google-cloud-aiplatform==1.7.0) (2021.10.8)\n",
      "Requirement already satisfied: charset-normalizer~=2.0.0 in /opt/conda/lib/python3.7/site-packages (from requests<3.0.0dev,>=2.18.0->google-api-core[grpc]<3.0.0dev,>=1.26.0->google-cloud-aiplatform==1.7.0) (2.0.9)\n",
      "Requirement already satisfied: cffi>=1.0.0 in /opt/conda/lib/python3.7/site-packages (from google-crc32c<2.0dev,>=1.0->google-resumable-media<3.0dev,>=0.6.0->google-cloud-bigquery<3.0.0dev,>=1.15.0->google-cloud-aiplatform==1.7.0) (1.15.0)\n",
      "Requirement already satisfied: pyasn1<0.5.0,>=0.4.6 in /opt/conda/lib/python3.7/site-packages (from pyasn1-modules>=0.2.1->google-auth<3.0dev,>=1.25.0->google-api-core[grpc]<3.0.0dev,>=1.26.0->google-cloud-aiplatform==1.7.0) (0.4.8)\n",
      "Requirement already satisfied: pycparser in /opt/conda/lib/python3.7/site-packages (from cffi>=1.0.0->google-crc32c<2.0dev,>=1.0->google-resumable-media<3.0dev,>=0.6.0->google-cloud-bigquery<3.0.0dev,>=1.15.0->google-cloud-aiplatform==1.7.0) (2.21)\n",
      "Installing collected packages: google-cloud-aiplatform\n",
      "\u001b[33m  WARNING: The script tb-gcp-uploader is installed in '/home/jupyter/.local/bin' which is not on PATH.\n",
      "  Consider adding this directory to PATH or, if you prefer to suppress this warning, use --no-warn-script-location.\u001b[0m\n",
      "Successfully installed google-cloud-aiplatform-1.7.0\n",
      "Collecting kfp==1.8.9\n",
      "  Downloading kfp-1.8.9.tar.gz (296 kB)\n",
      "     |████████████████████████████████| 296 kB 6.8 MB/s            \n",
      "\u001b[?25h  Preparing metadata (setup.py) ... \u001b[?25ldone\n",
      "\u001b[?25hCollecting google-cloud-pipeline-components==0.2.0\n",
      "  Downloading google_cloud_pipeline_components-0.2.0-py3-none-any.whl (135 kB)\n",
      "     |████████████████████████████████| 135 kB 51.5 MB/s            \n",
      "\u001b[?25hCollecting absl-py<=0.11,>=0.9\n",
      "  Downloading absl_py-0.11.0-py3-none-any.whl (127 kB)\n",
      "     |████████████████████████████████| 127 kB 43.9 MB/s            \n",
      "\u001b[?25hCollecting PyYAML<6,>=5.3\n",
      "  Downloading PyYAML-5.4.1-cp37-cp37m-manylinux1_x86_64.whl (636 kB)\n",
      "     |████████████████████████████████| 636 kB 34.5 MB/s            \n",
      "\u001b[?25hRequirement already satisfied: google-cloud-storage<2,>=1.20.0 in /opt/conda/lib/python3.7/site-packages (from kfp==1.8.9) (1.43.0)\n",
      "Collecting kubernetes<19,>=8.0.0\n",
      "  Downloading kubernetes-18.20.0-py2.py3-none-any.whl (1.6 MB)\n",
      "     |████████████████████████████████| 1.6 MB 37.9 MB/s            \n",
      "\u001b[?25hCollecting google-api-python-client<2,>=1.7.8\n",
      "  Downloading google_api_python_client-1.12.8-py2.py3-none-any.whl (61 kB)\n",
      "     |████████████████████████████████| 61 kB 46 kB/s              \n",
      "\u001b[?25hCollecting google-auth<2,>=1.6.1\n",
      "  Downloading google_auth-1.35.0-py2.py3-none-any.whl (152 kB)\n",
      "     |████████████████████████████████| 152 kB 46.4 MB/s            \n",
      "\u001b[?25hCollecting requests-toolbelt<1,>=0.8.0\n",
      "  Downloading requests_toolbelt-0.9.1-py2.py3-none-any.whl (54 kB)\n",
      "     |████████████████████████████████| 54 kB 5.0 MB/s             \n",
      "\u001b[?25hRequirement already satisfied: cloudpickle<3,>=2.0.0 in /opt/conda/lib/python3.7/site-packages (from kfp==1.8.9) (2.0.0)\n",
      "Collecting kfp-server-api<2.0.0,>=1.1.2\n",
      "  Downloading kfp-server-api-1.7.1.tar.gz (52 kB)\n",
      "     |████████████████████████████████| 52 kB 2.6 MB/s             \n",
      "\u001b[?25h  Preparing metadata (setup.py) ... \u001b[?25ldone\n",
      "\u001b[?25hCollecting jsonschema<4,>=3.0.1\n",
      "  Downloading jsonschema-3.2.0-py2.py3-none-any.whl (56 kB)\n",
      "     |████████████████████████████████| 56 kB 6.8 MB/s             \n",
      "\u001b[?25hCollecting tabulate<1,>=0.8.6\n",
      "  Downloading tabulate-0.8.9-py3-none-any.whl (25 kB)\n",
      "Requirement already satisfied: click<9,>=7.1.2 in /opt/conda/lib/python3.7/site-packages (from kfp==1.8.9) (8.0.3)\n",
      "Collecting Deprecated<2,>=1.2.7\n",
      "  Downloading Deprecated-1.2.13-py2.py3-none-any.whl (9.6 kB)\n",
      "Collecting strip-hints<1,>=0.1.8\n",
      "  Downloading strip-hints-0.1.10.tar.gz (29 kB)\n",
      "  Preparing metadata (setup.py) ... \u001b[?25ldone\n",
      "\u001b[?25hCollecting docstring-parser<1,>=0.7.3\n",
      "  Downloading docstring_parser-0.13.tar.gz (23 kB)\n",
      "  Installing build dependencies ... \u001b[?25ldone\n",
      "\u001b[?25h  Getting requirements to build wheel ... \u001b[?25ldone\n",
      "\u001b[?25h  Preparing metadata (pyproject.toml) ... \u001b[?25ldone\n",
      "\u001b[?25hCollecting kfp-pipeline-spec<0.2.0,>=0.1.13\n",
      "  Downloading kfp_pipeline_spec-0.1.13-py3-none-any.whl (18 kB)\n",
      "Collecting fire<1,>=0.3.1\n",
      "  Downloading fire-0.4.0.tar.gz (87 kB)\n",
      "     |████████████████████████████████| 87 kB 9.5 MB/s             \n",
      "\u001b[?25h  Preparing metadata (setup.py) ... \u001b[?25ldone\n",
      "\u001b[?25hRequirement already satisfied: protobuf<4,>=3.13.0 in /opt/conda/lib/python3.7/site-packages (from kfp==1.8.9) (3.19.1)\n",
      "Collecting uritemplate<4,>=3.0.1\n",
      "  Downloading uritemplate-3.0.1-py2.py3-none-any.whl (15 kB)\n",
      "Requirement already satisfied: pydantic<2,>=1.8.2 in /opt/conda/lib/python3.7/site-packages (from kfp==1.8.9) (1.8.2)\n",
      "Collecting typer<1.0,>=0.3.2\n",
      "  Downloading typer-0.4.0-py3-none-any.whl (27 kB)\n",
      "Collecting typing-extensions<4,>=3.7.4\n",
      "  Downloading typing_extensions-3.10.0.2-py3-none-any.whl (26 kB)\n",
      "Collecting google-api-core<2dev,>=1.26.0\n",
      "  Downloading google_api_core-1.31.5-py2.py3-none-any.whl (93 kB)\n",
      "     |████████████████████████████████| 93 kB 2.7 MB/s             \n",
      "\u001b[?25hRequirement already satisfied: google-cloud-aiplatform>=1.4.3 in ./.local/lib/python3.7/site-packages (from google-cloud-pipeline-components==0.2.0) (1.7.0)\n",
      "Collecting google-cloud-notebooks>=0.4.0\n",
      "  Downloading google_cloud_notebooks-1.1.1-py2.py3-none-any.whl (198 kB)\n",
      "     |████████████████████████████████| 198 kB 57.3 MB/s            \n",
      "\u001b[?25hRequirement already satisfied: six in /opt/conda/lib/python3.7/site-packages (from absl-py<=0.11,>=0.9->kfp==1.8.9) (1.16.0)\n",
      "Requirement already satisfied: importlib-metadata in /opt/conda/lib/python3.7/site-packages (from click<9,>=7.1.2->kfp==1.8.9) (4.9.0)\n",
      "Requirement already satisfied: wrapt<2,>=1.10 in /opt/conda/lib/python3.7/site-packages (from Deprecated<2,>=1.2.7->kfp==1.8.9) (1.13.3)\n",
      "Collecting termcolor\n",
      "  Downloading termcolor-1.1.0.tar.gz (3.9 kB)\n",
      "  Preparing metadata (setup.py) ... \u001b[?25ldone\n",
      "\u001b[?25hRequirement already satisfied: setuptools>=40.3.0 in /opt/conda/lib/python3.7/site-packages (from google-api-core<2dev,>=1.26.0->google-cloud-pipeline-components==0.2.0) (59.6.0)\n",
      "Requirement already satisfied: googleapis-common-protos<2.0dev,>=1.6.0 in /opt/conda/lib/python3.7/site-packages (from google-api-core<2dev,>=1.26.0->google-cloud-pipeline-components==0.2.0) (1.53.0)\n",
      "Requirement already satisfied: packaging>=14.3 in /opt/conda/lib/python3.7/site-packages (from google-api-core<2dev,>=1.26.0->google-cloud-pipeline-components==0.2.0) (21.3)\n",
      "Requirement already satisfied: pytz in /opt/conda/lib/python3.7/site-packages (from google-api-core<2dev,>=1.26.0->google-cloud-pipeline-components==0.2.0) (2021.3)\n",
      "Requirement already satisfied: requests<3.0.0dev,>=2.18.0 in /opt/conda/lib/python3.7/site-packages (from google-api-core<2dev,>=1.26.0->google-cloud-pipeline-components==0.2.0) (2.26.0)\n",
      "Requirement already satisfied: google-auth-httplib2>=0.0.3 in /opt/conda/lib/python3.7/site-packages (from google-api-python-client<2,>=1.7.8->kfp==1.8.9) (0.1.0)\n",
      "Requirement already satisfied: httplib2<1dev,>=0.15.0 in /opt/conda/lib/python3.7/site-packages (from google-api-python-client<2,>=1.7.8->kfp==1.8.9) (0.20.2)\n",
      "Requirement already satisfied: cachetools<5.0,>=2.0.0 in /opt/conda/lib/python3.7/site-packages (from google-auth<2,>=1.6.1->kfp==1.8.9) (4.2.4)\n",
      "Requirement already satisfied: rsa<5,>=3.1.4 in /opt/conda/lib/python3.7/site-packages (from google-auth<2,>=1.6.1->kfp==1.8.9) (4.8)\n",
      "Requirement already satisfied: pyasn1-modules>=0.2.1 in /opt/conda/lib/python3.7/site-packages (from google-auth<2,>=1.6.1->kfp==1.8.9) (0.2.7)\n",
      "Requirement already satisfied: proto-plus>=1.10.1 in /opt/conda/lib/python3.7/site-packages (from google-cloud-aiplatform>=1.4.3->google-cloud-pipeline-components==0.2.0) (1.19.8)\n",
      "Requirement already satisfied: google-api-core[grpc]<3.0.0dev,>=1.26.0 in /opt/conda/lib/python3.7/site-packages (from google-cloud-aiplatform>=1.4.3->google-cloud-pipeline-components==0.2.0) (2.3.2)\n",
      "Requirement already satisfied: google-cloud-bigquery<3.0.0dev,>=1.15.0 in /opt/conda/lib/python3.7/site-packages (from google-cloud-aiplatform>=1.4.3->google-cloud-pipeline-components==0.2.0) (2.31.0)\n",
      "Requirement already satisfied: google-resumable-media<3.0dev,>=1.3.0 in /opt/conda/lib/python3.7/site-packages (from google-cloud-storage<2,>=1.20.0->kfp==1.8.9) (2.1.0)\n",
      "Requirement already satisfied: google-cloud-core<3.0dev,>=1.6.0 in /opt/conda/lib/python3.7/site-packages (from google-cloud-storage<2,>=1.20.0->kfp==1.8.9) (2.2.1)\n",
      "Requirement already satisfied: attrs>=17.4.0 in /opt/conda/lib/python3.7/site-packages (from jsonschema<4,>=3.0.1->kfp==1.8.9) (21.2.0)\n",
      "Requirement already satisfied: pyrsistent>=0.14.0 in /opt/conda/lib/python3.7/site-packages (from jsonschema<4,>=3.0.1->kfp==1.8.9) (0.18.0)\n",
      "Requirement already satisfied: urllib3>=1.15 in /opt/conda/lib/python3.7/site-packages (from kfp-server-api<2.0.0,>=1.1.2->kfp==1.8.9) (1.26.7)\n",
      "Requirement already satisfied: certifi in /opt/conda/lib/python3.7/site-packages (from kfp-server-api<2.0.0,>=1.1.2->kfp==1.8.9) (2021.10.8)\n",
      "Requirement already satisfied: python-dateutil in /opt/conda/lib/python3.7/site-packages (from kfp-server-api<2.0.0,>=1.1.2->kfp==1.8.9) (2.8.2)\n",
      "Requirement already satisfied: requests-oauthlib in /opt/conda/lib/python3.7/site-packages (from kubernetes<19,>=8.0.0->kfp==1.8.9) (1.3.0)\n",
      "Requirement already satisfied: websocket-client!=0.40.0,!=0.41.*,!=0.42.*,>=0.32.0 in /opt/conda/lib/python3.7/site-packages (from kubernetes<19,>=8.0.0->kfp==1.8.9) (1.2.3)\n",
      "Requirement already satisfied: wheel in /opt/conda/lib/python3.7/site-packages (from strip-hints<1,>=0.1.8->kfp==1.8.9) (0.37.0)\n",
      "Collecting google-api-core[grpc]<3.0.0dev,>=1.26.0\n",
      "  Downloading google_api_core-2.3.0-py2.py3-none-any.whl (109 kB)\n",
      "     |████████████████████████████████| 109 kB 49.7 MB/s            \n",
      "\u001b[?25h  Downloading google_api_core-2.2.2-py2.py3-none-any.whl (95 kB)\n",
      "     |████████████████████████████████| 95 kB 7.5 MB/s             \n",
      "\u001b[?25h  Downloading google_api_core-2.2.1-py2.py3-none-any.whl (95 kB)\n",
      "     |████████████████████████████████| 95 kB 7.2 MB/s             \n",
      "\u001b[?25h  Downloading google_api_core-2.2.0-py2.py3-none-any.whl (95 kB)\n",
      "     |████████████████████████████████| 95 kB 6.9 MB/s             \n",
      "\u001b[?25h  Downloading google_api_core-2.1.1-py2.py3-none-any.whl (95 kB)\n",
      "     |████████████████████████████████| 95 kB 6.2 MB/s             \n",
      "\u001b[?25h  Downloading google_api_core-2.1.0-py2.py3-none-any.whl (94 kB)\n",
      "     |████████████████████████████████| 94 kB 5.8 MB/s             \n",
      "\u001b[?25h  Downloading google_api_core-2.0.1-py2.py3-none-any.whl (92 kB)\n",
      "     |████████████████████████████████| 92 kB 373 kB/s             \n",
      "\u001b[?25h  Downloading google_api_core-2.0.0-py2.py3-none-any.whl (92 kB)\n",
      "     |████████████████████████████████| 92 kB 656 kB/s             \n",
      "\u001b[?25hRequirement already satisfied: grpcio<2.0dev,>=1.29.0 in /opt/conda/lib/python3.7/site-packages (from google-api-core<2dev,>=1.26.0->google-cloud-pipeline-components==0.2.0) (1.43.0)\n",
      "Requirement already satisfied: google-crc32c<2.0dev,>=1.0 in /opt/conda/lib/python3.7/site-packages (from google-resumable-media<3.0dev,>=1.3.0->google-cloud-storage<2,>=1.20.0->kfp==1.8.9) (1.1.2)\n",
      "Requirement already satisfied: pyparsing!=3.0.0,!=3.0.1,!=3.0.2,!=3.0.3,<4,>=2.4.2 in /opt/conda/lib/python3.7/site-packages (from httplib2<1dev,>=0.15.0->google-api-python-client<2,>=1.7.8->kfp==1.8.9) (3.0.6)\n",
      "Requirement already satisfied: pyasn1<0.5.0,>=0.4.6 in /opt/conda/lib/python3.7/site-packages (from pyasn1-modules>=0.2.1->google-auth<2,>=1.6.1->kfp==1.8.9) (0.4.8)\n",
      "Requirement already satisfied: charset-normalizer~=2.0.0 in /opt/conda/lib/python3.7/site-packages (from requests<3.0.0dev,>=2.18.0->google-api-core<2dev,>=1.26.0->google-cloud-pipeline-components==0.2.0) (2.0.9)\n",
      "Requirement already satisfied: idna<4,>=2.5 in /opt/conda/lib/python3.7/site-packages (from requests<3.0.0dev,>=2.18.0->google-api-core<2dev,>=1.26.0->google-cloud-pipeline-components==0.2.0) (3.1)\n",
      "Requirement already satisfied: zipp>=0.5 in /opt/conda/lib/python3.7/site-packages (from importlib-metadata->click<9,>=7.1.2->kfp==1.8.9) (3.6.0)\n",
      "Requirement already satisfied: oauthlib>=3.0.0 in /opt/conda/lib/python3.7/site-packages (from requests-oauthlib->kubernetes<19,>=8.0.0->kfp==1.8.9) (3.1.1)\n",
      "Requirement already satisfied: cffi>=1.0.0 in /opt/conda/lib/python3.7/site-packages (from google-crc32c<2.0dev,>=1.0->google-resumable-media<3.0dev,>=1.3.0->google-cloud-storage<2,>=1.20.0->kfp==1.8.9) (1.15.0)\n",
      "Requirement already satisfied: pycparser in /opt/conda/lib/python3.7/site-packages (from cffi>=1.0.0->google-crc32c<2.0dev,>=1.0->google-resumable-media<3.0dev,>=1.3.0->google-cloud-storage<2,>=1.20.0->kfp==1.8.9) (2.21)\n",
      "Building wheels for collected packages: kfp, docstring-parser, fire, kfp-server-api, strip-hints, termcolor\n",
      "  Building wheel for kfp (setup.py) ... \u001b[?25ldone\n",
      "\u001b[?25h  Created wheel for kfp: filename=kfp-1.8.9-py3-none-any.whl size=409653 sha256=82a30372f807ace41dd03750e2c4181715ff340a7e244624b8ca35a940461473\n",
      "  Stored in directory: /home/jupyter/.cache/pip/wheels/0e/20/7e/c2c43249eb0538c5aa2542bcc9b02affb0211ed5617fbd4abc\n",
      "  Building wheel for docstring-parser (pyproject.toml) ... \u001b[?25ldone\n",
      "\u001b[?25h  Created wheel for docstring-parser: filename=docstring_parser-0.13-py3-none-any.whl size=31866 sha256=76abd24f1099d9acd13500908c6c039c205f33155124c62b688cf60604c03dec\n",
      "  Stored in directory: /home/jupyter/.cache/pip/wheels/bd/88/3c/d1aa049309f7945178cac9fbe6561a86424f432da57c18ca0f\n",
      "  Building wheel for fire (setup.py) ... \u001b[?25ldone\n",
      "\u001b[?25h  Created wheel for fire: filename=fire-0.4.0-py2.py3-none-any.whl size=115943 sha256=1216d585127882a21f37c13d2abb870473fb1dc7c17752780ebb80d6ba5494cb\n",
      "  Stored in directory: /home/jupyter/.cache/pip/wheels/8a/67/fb/2e8a12fa16661b9d5af1f654bd199366799740a85c64981226\n",
      "  Building wheel for kfp-server-api (setup.py) ... \u001b[?25ldone\n",
      "\u001b[?25h  Created wheel for kfp-server-api: filename=kfp_server_api-1.7.1-py3-none-any.whl size=92618 sha256=eebdaa200d8477591da86d249494600e053d4468e930469d238118004a57c1c6\n",
      "  Stored in directory: /home/jupyter/.cache/pip/wheels/68/3f/d5/734c0278dd6c8969cef359edcf059505a61452c5eb0e2760e1\n",
      "  Building wheel for strip-hints (setup.py) ... \u001b[?25ldone\n",
      "\u001b[?25h  Created wheel for strip-hints: filename=strip_hints-0.1.10-py2.py3-none-any.whl size=22302 sha256=9b3517e27fddc8fc03a4da0816565bb19972b25a5eb791cd96c24df05ee81e0e\n",
      "  Stored in directory: /home/jupyter/.cache/pip/wheels/5e/14/c3/6e44e9b2545f2d570b03f5b6d38c00b7534aa8abb376978363\n",
      "  Building wheel for termcolor (setup.py) ... \u001b[?25ldone\n",
      "\u001b[?25h  Created wheel for termcolor: filename=termcolor-1.1.0-py3-none-any.whl size=4847 sha256=bc553e230641ebe5f0fbc6db9ebb00d8856400c89b269a3a8bd77d6bea1c4a24\n",
      "  Stored in directory: /home/jupyter/.cache/pip/wheels/3f/e3/ec/8a8336ff196023622fbcb36de0c5a5c218cbb24111d1d4c7f2\n",
      "Successfully built kfp docstring-parser fire kfp-server-api strip-hints termcolor\n",
      "Installing collected packages: typing-extensions, google-auth, google-api-core, uritemplate, termcolor, PyYAML, typer, tabulate, strip-hints, requests-toolbelt, kubernetes, kfp-server-api, kfp-pipeline-spec, jsonschema, google-api-python-client, fire, docstring-parser, Deprecated, absl-py, kfp, google-cloud-notebooks, google-cloud-pipeline-components\n",
      "\u001b[33m  WARNING: The script tabulate is installed in '/home/jupyter/.local/bin' which is not on PATH.\n",
      "  Consider adding this directory to PATH or, if you prefer to suppress this warning, use --no-warn-script-location.\u001b[0m\n",
      "\u001b[33m  WARNING: The script strip-hints is installed in '/home/jupyter/.local/bin' which is not on PATH.\n",
      "  Consider adding this directory to PATH or, if you prefer to suppress this warning, use --no-warn-script-location.\u001b[0m\n",
      "\u001b[33m  WARNING: The script jsonschema is installed in '/home/jupyter/.local/bin' which is not on PATH.\n",
      "  Consider adding this directory to PATH or, if you prefer to suppress this warning, use --no-warn-script-location.\u001b[0m\n",
      "\u001b[33m  WARNING: The scripts dsl-compile, dsl-compile-v2 and kfp are installed in '/home/jupyter/.local/bin' which is not on PATH.\n",
      "  Consider adding this directory to PATH or, if you prefer to suppress this warning, use --no-warn-script-location.\u001b[0m\n",
      "Successfully installed Deprecated-1.2.13 PyYAML-5.4.1 absl-py-0.11.0 docstring-parser-0.13 fire-0.4.0 google-api-core-1.31.5 google-api-python-client-1.12.8 google-auth-1.35.0 google-cloud-notebooks-1.1.1 google-cloud-pipeline-components-0.2.0 jsonschema-3.2.0 kfp-1.8.9 kfp-pipeline-spec-0.1.13 kfp-server-api-1.7.1 kubernetes-18.20.0 requests-toolbelt-0.9.1 strip-hints-0.1.10 tabulate-0.8.9 termcolor-1.1.0 typer-0.4.0 typing-extensions-3.10.0.2 uritemplate-3.0.1\n"
     ]
    }
   ],
   "source": [
    "!pip3 install {USER_FLAG} google-cloud-aiplatform==1.7.0 --upgrade\n",
    "!pip3 install {USER_FLAG} kfp==1.8.9 google-cloud-pipeline-components==0.2.0"
   ]
  },
  {
   "cell_type": "code",
   "execution_count": 3,
   "id": "bd3931bf-7b30-4b24-81ba-5c80576705c7",
   "metadata": {},
   "outputs": [],
   "source": [
    "import os\n",
    "\n",
    "if not os.getenv(\"IS_TESTING\"):\n",
    "    # Automatically restart kernel after installs\n",
    "    import IPython\n",
    "\n",
    "    app = IPython.Application.instance()\n",
    "    app.kernel.do_shutdown(True)"
   ]
  },
  {
   "cell_type": "code",
   "execution_count": 80,
   "id": "3ba9a1b3-d293-4ec9-a135-34ae0188ada5",
   "metadata": {},
   "outputs": [
    {
     "name": "stdout",
     "output_type": "stream",
     "text": [
      "KFP SDK version: 1.8.9\n",
      "google_cloud_pipeline_components version: 0.2.0\n"
     ]
    }
   ],
   "source": [
    "!python3 -c \"import kfp; print('KFP SDK version: {}'.format(kfp.__version__))\"\n",
    "!python3 -c \"import google_cloud_pipeline_components; print('google_cloud_pipeline_components version: {}'.format(google_cloud_pipeline_components.__version__))\""
   ]
  },
  {
   "cell_type": "code",
   "execution_count": 356,
   "id": "1b501a68-d00a-478e-bcc7-1b0c4244f776",
   "metadata": {},
   "outputs": [
    {
     "name": "stdout",
     "output_type": "stream",
     "text": [
      "Project ID:  niveustraining\n"
     ]
    }
   ],
   "source": [
    "import os\n",
    "PROJECT_ID = \"\"\n",
    "\n",
    "# Get your Google Cloud project ID from gcloud\n",
    "if not os.getenv(\"IS_TESTING\"):\n",
    "    shell_output=!gcloud config list --format 'value(core.project)' 2>/dev/null\n",
    "    PROJECT_ID = shell_output[0]\n",
    "    print(\"Project ID: \", PROJECT_ID)"
   ]
  },
  {
   "cell_type": "code",
   "execution_count": 357,
   "id": "319a9c03-8af2-489b-bbdb-5647ad5f8d93",
   "metadata": {},
   "outputs": [],
   "source": [
    "BUCKET_NAME=\"gs://\" + \"black-friday-demo\" + \"-bucket\""
   ]
  },
  {
   "cell_type": "code",
   "execution_count": 358,
   "id": "c73904ba-846f-4447-8f01-721957a89068",
   "metadata": {},
   "outputs": [],
   "source": [
    "import kfp\n",
    "from kfp.v2 import compiler, dsl\n",
    "from kfp.v2.dsl import component, pipeline, Artifact, ClassificationMetrics, Input, Output, Model, Metrics, Dataset, Markdown\n",
    "from google.cloud import aiplatform"
   ]
  },
  {
   "cell_type": "code",
   "execution_count": 359,
   "id": "ab2e7cfc-39fd-4222-bea2-06ad19a5e355",
   "metadata": {},
   "outputs": [
    {
     "name": "stdout",
     "output_type": "stream",
     "text": [
      "env: PATH=/opt/conda/bin:/opt/conda/condabin:/usr/local/bin:/usr/bin:/bin:/usr/local/games:/usr/games:/home/jupyter/.local/bin:/home/jupyter/.local/bin:/home/jupyter/.local/bin:/home/jupyter/.local/bin:/home/jupyter/.local/bin:/home/jupyter/.local/bin:/home/jupyter/.local/bin:/home/jupyter/.local/bin:/home/jupyter/.local/bin:/home/jupyter/.local/bin:/home/jupyter/.local/bin:/home/jupyter/.local/bin:/home/jupyter/.local/bin:/home/jupyter/.local/bin:/home/jupyter/.local/bin:/home/jupyter/.local/bin:/home/jupyter/.local/bin:/home/jupyter/.local/bin\n"
     ]
    },
    {
     "data": {
      "text/plain": [
       "'gs://black-friday-demo-bucket/pipeline-root/'"
      ]
     },
     "execution_count": 359,
     "metadata": {},
     "output_type": "execute_result"
    }
   ],
   "source": [
    "PATH=%env PATH\n",
    "%env PATH={PATH}:/home/jupyter/.local/bin\n",
    "REGION=\"us-central1\"\n",
    "\n",
    "PIPELINE_ROOT = f\"{BUCKET_NAME}/pipeline-root/\"\n",
    "PIPELINE_ROOT"
   ]
  },
  {
   "cell_type": "code",
   "execution_count": 360,
   "id": "99aac0a7-f31c-46ff-bc9c-9fbfb3a14e54",
   "metadata": {},
   "outputs": [],
   "source": [
    "@component(\n",
    "    base_image=\"python:3.8-slim\",\n",
    "    output_component_file=\"./components/get-data/component.yml\",\n",
    "    packages_to_install=[\"pandas\", \"fsspec\", \"gcsfs\"]\n",
    ")\n",
    "def get_data(\n",
    "    dataset: Output[Dataset],\n",
    "    Columns: Output[Metrics]\n",
    "):\n",
    "    from pandas import read_csv\n",
    "\n",
    "    df = read_csv('gs://black-friday-demo-bucket/dataset/train.csv')\n",
    "\n",
    "    df.to_csv(dataset.uri, index=False)\n",
    "    \n",
    "    Columns.log_metric(\"columns\", str(df.columns.tolist()))\n"
   ]
  },
  {
   "cell_type": "code",
   "execution_count": 361,
   "id": "a379d464-de4f-4151-a5bd-3e50db6ad244",
   "metadata": {},
   "outputs": [],
   "source": [
    "@component(\n",
    "    base_image=\"python:3.8-slim\",\n",
    "    output_component_file=\"./components/clean-data/component.yml\",\n",
    "    packages_to_install=[\"pandas\", \"np\", \"sklearn\", \"fsspec\", \"gcsfs\"]\n",
    ")\n",
    "def clean_data(\n",
    "    dataset: Input[Dataset],\n",
    "    cleaned_data: Output[Artifact],\n",
    "    column_transformer: Output[Artifact],\n",
    "    label_encoder: Output[Artifact],\n",
    "    dataset_data: Output[Markdown]\n",
    "):\n",
    "    import json\n",
    "    import numpy as np\n",
    "    import pandas as pd\n",
    "    from pickle import dump\n",
    "    from sklearn.impute import SimpleImputer\n",
    "    from sklearn.compose import ColumnTransformer\n",
    "    from sklearn.preprocessing import LabelEncoder, OneHotEncoder\n",
    "\n",
    "    df = pd.read_csv(dataset.uri)\n",
    "    df.drop(['User_ID', 'Product_ID', 'Product_Category_3'], axis=1, inplace=True)\n",
    "    # Split the data into independent and dependent variables and remove unnecessary columns\n",
    "    x = df.iloc[:, :-1].values\n",
    "    y = df.iloc[:, -1].values\n",
    "    \n",
    "    json_data = json.dumps({\"dataset\":[{_: df[_].unique().tolist()}for _ in df.drop(['Purchase'], axis=1).columns.tolist()]}, indent=4)\n",
    "    \n",
    "    markdown_content = f\"\"\"\n",
    "    ```json\n",
    "    {json_data}\n",
    "    ```\n",
    "    \"\"\"\n",
    "    \n",
    "    with open(dataset_data.path, 'w') as f:\n",
    "        f.write(markdown_content)\n",
    "\n",
    "    #Encode Gender column\n",
    "    le = LabelEncoder()\n",
    "    x[:, 0] = le.fit_transform(x[:, 0])\n",
    "\n",
    "    # Fill NaN values in Product_Category_2 column \n",
    "    imputer = SimpleImputer(missing_values=np.nan, strategy='median')\n",
    "    x[:, 7] = imputer.fit_transform(x[:, 7].reshape(-1, 1)).reshape(1, -1)[0]\n",
    "\n",
    "    # Onehot encode the Age, City_Category, Stay_In_Current_City_Years columns\n",
    "    ct = ColumnTransformer(transformers=[('encoder', OneHotEncoder(), [1, 3, 4])], remainder='passthrough')\n",
    "    x = ct.fit_transform(x)\n",
    "\n",
    "    # Merge the dataset to pass it to the next component\n",
    "    x = pd.DataFrame(x)\n",
    "    y = pd.DataFrame(y)\n",
    "    data = pd.concat([x,y], axis=1)\n",
    "\n",
    "    # Write the data to a csv file\n",
    "    data.to_csv(path_or_buf=cleaned_data.path, index=False)\n",
    "\n",
    "    # Write the column transformer object into a file\n",
    "    with open(column_transformer.path, 'wb') as output_file:\n",
    "        dump(ct, output_file)\n",
    "\n",
    "    with open(label_encoder.path, 'wb') as output_file:\n",
    "        dump(le, output_file)"
   ]
  },
  {
   "cell_type": "code",
   "execution_count": 362,
   "id": "c6cdd31d-c4b7-44b6-80c6-645f6fa1eed9",
   "metadata": {},
   "outputs": [],
   "source": [
    "@component(\n",
    "    packages_to_install=[\"pandas\", \"np\", \"sklearn\", \"fsspec\", \"gcsfs\"],\n",
    "    base_image=\"python:3.8-slim\",\n",
    "    output_component_file=\"./components/feature-scale/component.yml\"\n",
    ")\n",
    "def feature_scale(\n",
    "    cleaned_data: Input[Artifact],\n",
    "    x_train_artifact: Output[Artifact],\n",
    "    y_train_artifact: Output[Artifact],\n",
    "    x_test_artifact: Output[Artifact],\n",
    "    y_test_artifact: Output[Artifact],\n",
    "    standard_scaler: Output[Artifact]\n",
    "):\n",
    "    from pickle import dump\n",
    "    from pandas import DataFrame, read_csv\n",
    "    from sklearn.preprocessing import StandardScaler\n",
    "    from sklearn.model_selection import train_test_split\n",
    "\n",
    "    df = read_csv(cleaned_data.uri)\n",
    "\n",
    "    x = df.iloc[:, :-1].values\n",
    "    y = df.iloc[:, -1].values\n",
    "\n",
    "    x_train, x_test, y_train, y_test = train_test_split(x, y, test_size = 0.2)\n",
    "\n",
    "    sc = StandardScaler()\n",
    "    x_train = sc.fit_transform(x_train)\n",
    "    x_test = sc.transform(x_test)\n",
    "\n",
    "    DataFrame(x_train).to_csv(x_train_artifact.uri, index=False)\n",
    "    DataFrame(y_train).to_csv(y_train_artifact.uri, index=False)\n",
    "    DataFrame(x_test).to_csv(x_test_artifact.uri, index=False)\n",
    "    DataFrame(y_test).to_csv(y_test_artifact.uri, index=False)\n",
    "\n",
    "    with open(standard_scaler.path, 'wb') as output_file:\n",
    "        dump(sc, output_file)"
   ]
  },
  {
   "cell_type": "code",
   "execution_count": 363,
   "id": "965aeb17-941f-48c0-b776-07ed7d6d85bc",
   "metadata": {},
   "outputs": [],
   "source": [
    "@component(\n",
    "    packages_to_install=[\"pandas\", \"sklearn\", \"fsspec\", \"gcsfs\"],\n",
    "    base_image=\"python:3.8-slim\",\n",
    "    output_component_file=\"./components/linear-regression/train/component.yml\"\n",
    ")\n",
    "def linear_regression_train(\n",
    "    x_train_artifact: Input[Artifact],\n",
    "    y_train_artifact: Input[Artifact],\n",
    "    model: Output[Model]\n",
    "):\n",
    "    import pickle\n",
    "    from pandas import read_csv\n",
    "    from sklearn.linear_model import LinearRegression\n",
    "\n",
    "    x_train = read_csv(x_train_artifact.uri)\n",
    "    y_train = read_csv(y_train_artifact.uri)\n",
    "\n",
    "    linear_regressor = LinearRegression()\n",
    "    linear_regressor.fit(x_train, y_train)\n",
    "\n",
    "    # with open(linear_regression_model.path, 'wb') as f:\n",
    "    #     pickle.dump(linear_regressor, f)    \n",
    "    with open(model.path + '.pkl', 'wb') as f:\n",
    "        pickle.dump(linear_regressor, f)\n",
    "    "
   ]
  },
  {
   "cell_type": "code",
   "execution_count": 364,
   "id": "181ab089-573f-45bb-af04-7769b2a4e6b3",
   "metadata": {},
   "outputs": [
    {
     "name": "stdout",
     "output_type": "stream",
     "text": [
      "components  pipeline.ipynb  pipeline.json\n"
     ]
    }
   ],
   "source": [
    "!ls"
   ]
  },
  {
   "cell_type": "code",
   "execution_count": 365,
   "id": "ca6251a7-4ed4-4c97-88eb-4d15dcad1762",
   "metadata": {},
   "outputs": [],
   "source": [
    "@component(\n",
    "    packages_to_install=[\"pandas\", \"sklearn\", \"fsspec\", \"gcsfs\"],\n",
    "    base_image=\"python:3.8-slim\",\n",
    "    output_component_file=\"./components/linear-regression/test/component.yml\"\n",
    ")\n",
    "def linear_regression_test(\n",
    "    linear_regression_model: Input[Model],\n",
    "    x_test_artifact: Input[Artifact],\n",
    "    y_test_artifact: Input[Artifact],\n",
    "    MSE: Output[Metrics],\n",
    "    MAE: Output[Metrics]\n",
    "):\n",
    "    import pickle\n",
    "    from pandas import read_csv\n",
    "    from sklearn.metrics import mean_squared_error, mean_absolute_error\n",
    "    \n",
    "    with open(linear_regression_model.path + '.pkl', 'rb') as f:\n",
    "        linear_regressor = pickle.load(f)\n",
    "        \n",
    "    x_test = read_csv(x_test_artifact.uri)\n",
    "    y_test = read_csv(y_test_artifact.uri)\n",
    "\n",
    "    y_pred = linear_regressor.predict(x_test)\n",
    "\n",
    "    mae = mean_absolute_error(y_pred, y_test)\n",
    "    mse = mean_squared_error(y_pred, y_test)\n",
    "    output_accuracy = f\"\\nLinear Regression\\nMean Absolute Error: {mae}\\nMean Squared Error: {mse}\\n\"\n",
    "    \n",
    "    MSE.log_metric(\"Mean Squared Error\", float(mse))    \n",
    "    MAE.log_metric(\"Mean Absolute Error\", float(mae))\n",
    "    \n",
    "    linear_regression_model.metadata[\"Mean Squared Error\"] = float(mse)    \n",
    "    linear_regression_model.metadata[\"Mean Absolute Error\"] = float(mae)"
   ]
  },
  {
   "cell_type": "code",
   "execution_count": 366,
   "id": "d6025083-5c49-485b-93c6-6bfb4c97eb77",
   "metadata": {},
   "outputs": [],
   "source": [
    "@component(\n",
    "    packages_to_install=['google-cloud-aiplatform', 'sklearn'],\n",
    "    base_image=\"python:3.8-slim\",\n",
    "    output_component_file=\"./components/linear-regression/deploy/component.yml\"\n",
    ")\n",
    "def deploy(\n",
    "    Model: Input[Model],\n",
    "    model: Output[Model]\n",
    "):\n",
    "    from google.cloud import aiplatform\n",
    "    import time\n",
    "    \n",
    "    TIME_STAMP = str(int(time.time()))\n",
    "    DISPLAY_NAME = f\"blackfriday-price-prediction-{TIME_STAMP}\"\n",
    "    MODEL_NAME = f\"black-friday-model-{TIME_STAMP}\"\n",
    "    ENDPOINT_NAME = f\"black-friday-endpoint-{TIME_STAMP}\"\n",
    "    PROJECT = 'niveustraining'\n",
    "    REGION = 'us-central1'\n",
    "    \n",
    "    aiplatform.init(project=PROJECT, location=REGION)\n",
    "    \n",
    "    endpoint = aiplatform.Endpoint.create(\n",
    "        display_name=ENDPOINT_NAME,\n",
    "        project=PROJECT,\n",
    "        location=REGION\n",
    "    )\n",
    "    \n",
    "    model_upload = aiplatform.Model.upload(\n",
    "        display_name=DISPLAY_NAME,\n",
    "        artifact_uri=Model.uri.replace(\"model\", \"\"),\n",
    "        serving_container_image_uri=\"us-docker.pkg.dev/vertex-ai/prediction/sklearn-cpu.0-24:latest\",\n",
    "        serving_container_health_route=f\"/v1/models/{MODEL_NAME}\",\n",
    "        serving_container_predict_route=f\"/v1/models/{MODEL_NAME}:predict\",\n",
    "        serving_container_environment_variables={\n",
    "            \"MODEL_NAME\": MODEL_NAME,\n",
    "        }\n",
    "    )\n",
    "    \n",
    "    model_deploy = model_upload.deploy(\n",
    "        machine_type=\"n1-standard-4\", \n",
    "        endpoint=endpoint,\n",
    "        traffic_split={\"0\": 100},\n",
    "        deployed_model_display_name=DISPLAY_NAME,\n",
    "    )\n",
    "    \n",
    "    model.uri = model_deploy.resource_name"
   ]
  },
  {
   "cell_type": "code",
   "execution_count": 367,
   "id": "352ec0bd-e7b4-4b09-8474-62793d7fa4a8",
   "metadata": {},
   "outputs": [],
   "source": [
    "@pipeline(\n",
    "    name=\"black-friday\",\n",
    "    pipeline_root=PIPELINE_ROOT\n",
    ")\n",
    "def pipeline():\n",
    "    get_data_task=get_data()\n",
    "    clean_data_task=clean_data(get_data_task.outputs[\"dataset\"])\n",
    "    feature_scale_task=feature_scale(clean_data_task.outputs[\"cleaned_data\"])\n",
    "    linear_regression_train_task=linear_regression_train(feature_scale_task.outputs[\"x_train_artifact\"], feature_scale_task.outputs[\"y_train_artifact\"])\n",
    "    linear_regression_test_task=linear_regression_test(linear_regression_train_task.outputs[\"model\"], feature_scale_task.outputs[\"x_train_artifact\"], feature_scale_task.outputs[\"y_train_artifact\"])\n",
    "    deployment_task=deploy(linear_regression_train_task.outputs[\"model\"])"
   ]
  },
  {
   "cell_type": "code",
   "execution_count": 368,
   "id": "e301103b-080c-4600-87db-4ea6ac56384d",
   "metadata": {},
   "outputs": [
    {
     "name": "stderr",
     "output_type": "stream",
     "text": [
      "/home/jupyter/.local/lib/python3.7/site-packages/kfp/v2/compiler/compiler.py:1266: FutureWarning: APIs imported from the v1 namespace (e.g. kfp.dsl, kfp.components, etc) will not be supported by the v2 compiler since v2.0.0\n",
      "  category=FutureWarning,\n"
     ]
    }
   ],
   "source": [
    "compiler.Compiler().compile(\n",
    "    pipeline_func=pipeline, package_path=\"pipeline.json\"\n",
    ")"
   ]
  },
  {
   "cell_type": "code",
   "execution_count": 369,
   "id": "aa767e7b-f0e4-4cb5-addb-3934c048506e",
   "metadata": {},
   "outputs": [],
   "source": [
    "from datetime import datetime\n",
    "\n",
    "TIMESTAMP = datetime.now().strftime(\"%Y%m%d%H%M%S\")"
   ]
  },
  {
   "cell_type": "code",
   "execution_count": 370,
   "id": "2992656e-0782-4624-b034-cba28df34bd2",
   "metadata": {},
   "outputs": [],
   "source": [
    "job = aiplatform.PipelineJob(\n",
    "    display_name=\"black-friday-pipeline\",\n",
    "    template_path=\"pipeline.json\",\n",
    "    job_id=\"black-friday-{0}\".format(TIMESTAMP),\n",
    "    enable_caching=True\n",
    ")"
   ]
  },
  {
   "cell_type": "code",
   "execution_count": 371,
   "id": "0f4e88a3-40cd-4d0d-84f2-0acd4f1c4fb6",
   "metadata": {},
   "outputs": [
    {
     "name": "stdout",
     "output_type": "stream",
     "text": [
      "INFO:google.cloud.aiplatform.pipeline_jobs:Creating PipelineJob\n",
      "INFO:google.cloud.aiplatform.pipeline_jobs:PipelineJob created. Resource name: projects/866354246469/locations/us-central1/pipelineJobs/black-friday-20220114110557\n",
      "INFO:google.cloud.aiplatform.pipeline_jobs:To use this PipelineJob in another session:\n",
      "INFO:google.cloud.aiplatform.pipeline_jobs:pipeline_job = aiplatform.PipelineJob.get('projects/866354246469/locations/us-central1/pipelineJobs/black-friday-20220114110557')\n",
      "INFO:google.cloud.aiplatform.pipeline_jobs:View Pipeline Job:\n",
      "https://console.cloud.google.com/vertex-ai/locations/us-central1/pipelines/runs/black-friday-20220114110557?project=866354246469\n"
     ]
    }
   ],
   "source": [
    "job.submit()"
   ]
  },
  {
   "cell_type": "code",
   "execution_count": 372,
   "id": "3f370eee-af7a-43f2-8d43-34bf34c8c1ac",
   "metadata": {},
   "outputs": [],
   "source": [
    "import ipywidgets as widgets"
   ]
  },
  {
   "cell_type": "code",
   "execution_count": 382,
   "id": "847f8ede-4c4d-49ca-a455-aadae17287d0",
   "metadata": {},
   "outputs": [],
   "source": [
    "gender = [\n",
    "            \"F\",\n",
    "            \"M\"\n",
    "        ]"
   ]
  },
  {
   "cell_type": "code",
   "execution_count": 385,
   "id": "27d376e5-cf60-49df-be35-bf3c31c69dcc",
   "metadata": {},
   "outputs": [],
   "source": [
    "Gender = widgets.Dropdown(\n",
    "    options=gender,\n",
    "    description='Gender'\n",
    ")"
   ]
  },
  {
   "cell_type": "code",
   "execution_count": 386,
   "id": "1b3428e0-59e0-47e8-829b-0edd4a43020b",
   "metadata": {},
   "outputs": [],
   "source": [
    "ocupation = [\n",
    "            10,\n",
    "            16,\n",
    "            15,\n",
    "            7,\n",
    "            20,\n",
    "            9,\n",
    "            1,\n",
    "            12,\n",
    "            17,\n",
    "            0,\n",
    "            3,\n",
    "            4,\n",
    "            11,\n",
    "            8,\n",
    "            19,\n",
    "            2,\n",
    "            18,\n",
    "            5,\n",
    "            14,\n",
    "            13,\n",
    "            6\n",
    "        ]"
   ]
  },
  {
   "cell_type": "code",
   "execution_count": 388,
   "id": "ad157419-3d35-445e-827f-f5d8d8f42084",
   "metadata": {},
   "outputs": [],
   "source": [
    "Ocupation = widgets.Dropdown(\n",
    "    optins=ocupation,\n",
    "    description=\"Ocupation\"\n",
    ")"
   ]
  },
  {
   "cell_type": "code",
   "execution_count": 389,
   "id": "e8249cd0-8932-4234-9134-364e48aef5ba",
   "metadata": {},
   "outputs": [],
   "source": [
    "city = [\n",
    "            \"A\",\n",
    "            \"C\",\n",
    "            \"B\"\n",
    "        ]"
   ]
  },
  {
   "cell_type": "code",
   "execution_count": 390,
   "id": "2969972a-5268-4b94-9862-31cda96c2949",
   "metadata": {},
   "outputs": [],
   "source": [
    "City = widgets.Dropdown(\n",
    "    optins=city,\n",
    "    description=\"City_Category\"\n",
    ")"
   ]
  },
  {
   "cell_type": "code",
   "execution_count": 391,
   "id": "4b337807-5613-40b0-85fd-0c83b232f78f",
   "metadata": {},
   "outputs": [],
   "source": [
    "stay = [\n",
    "            \"2\",\n",
    "            \"4+\",\n",
    "            \"3\",\n",
    "            \"1\",\n",
    "            \"0\"\n",
    "        ]"
   ]
  },
  {
   "cell_type": "code",
   "execution_count": 392,
   "id": "41c86e54-18f0-40f5-9b41-b1aa3158ec7c",
   "metadata": {},
   "outputs": [],
   "source": [
    "Stay = widgets.Dropdown(\n",
    "    optins=stay,\n",
    "    description=\"Stay_In_Current_City_Years\"\n",
    ")"
   ]
  },
  {
   "cell_type": "code",
   "execution_count": 393,
   "id": "d237eb1e-3252-494d-bb6f-e1b107a82a98",
   "metadata": {},
   "outputs": [],
   "source": [
    "status = [\n",
    "            0,\n",
    "            1\n",
    "        ]"
   ]
  },
  {
   "cell_type": "code",
   "execution_count": 394,
   "id": "aa3b2562-f6ac-4b68-b623-0cfc27a0755e",
   "metadata": {},
   "outputs": [],
   "source": [
    "Status = widgets.Dropdown(\n",
    "    optins=status,\n",
    "    description=\"Marital_Status\"\n",
    ")"
   ]
  },
  {
   "cell_type": "code",
   "execution_count": 395,
   "id": "fbf0309c-b0fa-4dfb-8931-25696d91a349",
   "metadata": {},
   "outputs": [],
   "source": [
    "product_1 = [\n",
    "            3,\n",
    "            1,\n",
    "            12,\n",
    "            8,\n",
    "            5,\n",
    "            4,\n",
    "            2,\n",
    "            6,\n",
    "            14,\n",
    "            11,\n",
    "            13,\n",
    "            15,\n",
    "            7,\n",
    "            16,\n",
    "            18,\n",
    "            10,\n",
    "            17,\n",
    "            9,\n",
    "            20,\n",
    "            19\n",
    "        ]"
   ]
  },
  {
   "cell_type": "code",
   "execution_count": 396,
   "id": "45af6f54-efc9-46e6-88a7-dec152a4b48e",
   "metadata": {},
   "outputs": [],
   "source": [
    "Product_1 = widgets.Dropdown(\n",
    "    optins=product_1,\n",
    "    description=\"Product_Category_1\"\n",
    ")"
   ]
  },
  {
   "cell_type": "code",
   "execution_count": 398,
   "id": "14627304-d1a1-4752-b47b-cf7a30f04883",
   "metadata": {},
   "outputs": [],
   "source": [
    "product_2 = [\n",
    "            6.0,\n",
    "            14.0,\n",
    "            2.0,\n",
    "            8.0,\n",
    "            15.0,\n",
    "            16.0,\n",
    "            11.0,\n",
    "            5.0,\n",
    "            3.0,\n",
    "            4.0,\n",
    "            12.0,\n",
    "            9.0,\n",
    "            10.0,\n",
    "            17.0,\n",
    "            13.0,\n",
    "            7.0,\n",
    "            18.0\n",
    "        ]"
   ]
  },
  {
   "cell_type": "code",
   "execution_count": 399,
   "id": "ff670cce-7471-4847-886b-7a3f92390808",
   "metadata": {},
   "outputs": [],
   "source": [
    "Product_2 = widgets.Dropdown(\n",
    "    optins=product_2,\n",
    "    description=\"Product_Category_2\"\n",
    ")"
   ]
  },
  {
   "cell_type": "code",
   "execution_count": 402,
   "id": "acb8d832-baf5-45eb-bd56-08d29b6e3211",
   "metadata": {},
   "outputs": [
    {
     "data": {
      "text/plain": [
       "{'Gender': 'F',\n",
       " 'Ocupation': None,\n",
       " 'Stay_In_Current_City_Years': None,\n",
       " 'Marital_Status': None,\n",
       " 'Product_Category_1': None,\n",
       " 'Product_Category_2': None}"
      ]
     },
     "execution_count": 402,
     "metadata": {},
     "output_type": "execute_result"
    }
   ],
   "source": []
  },
  {
   "cell_type": "code",
   "execution_count": 404,
   "id": "88903c94-f69d-4903-a15c-2d993fb97f8c",
   "metadata": {},
   "outputs": [
    {
     "data": {
      "application/vnd.jupyter.widget-view+json": {
       "model_id": "6a08de89382d46989499f5a6abed1cbe",
       "version_major": 2,
       "version_minor": 0
      },
      "text/plain": [
       "Dropdown(description='Gender', options=('F', 'M'), value='F')"
      ]
     },
     "metadata": {},
     "output_type": "display_data"
    },
    {
     "data": {
      "application/vnd.jupyter.widget-view+json": {
       "model_id": "04479abc442d4ce686a1ffda96af4ae6",
       "version_major": 2,
       "version_minor": 0
      },
      "text/plain": [
       "Dropdown(description='Ocupation', options=(), value=None)"
      ]
     },
     "metadata": {},
     "output_type": "display_data"
    },
    {
     "data": {
      "application/vnd.jupyter.widget-view+json": {
       "model_id": "5adaea1d6b6649128aa61e93b3843669",
       "version_major": 2,
       "version_minor": 0
      },
      "text/plain": [
       "Dropdown(description='Marital_Status', options=(), value=None)"
      ]
     },
     "metadata": {},
     "output_type": "display_data"
    },
    {
     "data": {
      "application/vnd.jupyter.widget-view+json": {
       "model_id": "2413f4795d1742b7844f39fe5ac7bf22",
       "version_major": 2,
       "version_minor": 0
      },
      "text/plain": [
       "Dropdown(description='City', options=(), value=None)"
      ]
     },
     "metadata": {},
     "output_type": "display_data"
    },
    {
     "data": {
      "application/vnd.jupyter.widget-view+json": {
       "model_id": "49d2d3e831d64b7094f5609f5a0feaf7",
       "version_major": 2,
       "version_minor": 0
      },
      "text/plain": [
       "Dropdown(description='Product_Category_1', options=(), value=None)"
      ]
     },
     "metadata": {},
     "output_type": "display_data"
    },
    {
     "data": {
      "application/vnd.jupyter.widget-view+json": {
       "model_id": "90bc250eafa940b5b33d63edcf36c58d",
       "version_major": 2,
       "version_minor": 0
      },
      "text/plain": [
       "Dropdown(description='Product_Category_2', options=(), value=None)"
      ]
     },
     "metadata": {},
     "output_type": "display_data"
    },
    {
     "data": {
      "application/vnd.jupyter.widget-view+json": {
       "model_id": "449b2563bceb4e1d8807d15776e51bf3",
       "version_major": 2,
       "version_minor": 0
      },
      "text/plain": [
       "Dropdown(description='Stay_In_Current_City_Years', options=(), value=None)"
      ]
     },
     "metadata": {},
     "output_type": "display_data"
    }
   ],
   "source": [
    "from IPython.display import display\n",
    "\n",
    "display(Gender)\n",
    "display(Ocupation)\n",
    "display(Status)\n",
    "display(City)\n",
    "display(Product_1)\n",
    "display(Product_2)\n",
    "display(Stay)\n",
    "\n"
   ]
  },
  {
   "cell_type": "code",
   "execution_count": null,
   "id": "8efd7e4d-29c4-459e-8de5-f5039c6fb5e7",
   "metadata": {},
   "outputs": [],
   "source": [
    "{Gender.description: Gender.value, Ocupation.description: Ocupation.value, Stay.description: Stay.value, Status.description: Status.value, Product_1.description: Product_1.value, Product_2.description: Product_2.value}"
   ]
  }
 ],
 "metadata": {
  "environment": {
   "kernel": "python3",
   "name": "common-cpu.m87",
   "type": "gcloud",
   "uri": "gcr.io/deeplearning-platform-release/base-cpu:m87"
  },
  "kernelspec": {
   "display_name": "Python 3",
   "language": "python",
   "name": "python3"
  },
  "language_info": {
   "codemirror_mode": {
    "name": "ipython",
    "version": 3
   },
   "file_extension": ".py",
   "mimetype": "text/x-python",
   "name": "python",
   "nbconvert_exporter": "python",
   "pygments_lexer": "ipython3",
   "version": "3.7.12"
  }
 },
 "nbformat": 4,
 "nbformat_minor": 5
}

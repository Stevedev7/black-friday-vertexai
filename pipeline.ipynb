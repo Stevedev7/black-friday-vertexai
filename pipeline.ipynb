{
 "cells": [
  {
   "cell_type": "code",
   "execution_count": 1,
   "id": "2dcd7436-ffa8-48b5-a286-f4bb201c0a11",
   "metadata": {},
   "outputs": [],
   "source": [
    "USER_FLAG = \"--user\""
   ]
  },
  {
   "cell_type": "code",
   "execution_count": 2,
   "id": "7c42bf02-3b8c-4cbd-b38f-b9884ff71c7b",
   "metadata": {},
   "outputs": [
    {
     "name": "stdout",
     "output_type": "stream",
     "text": [
      "Requirement already satisfied: google-cloud-aiplatform==1.7.0 in /home/niveus2610-03/.local/lib/python3.8/site-packages (1.7.0)\n",
      "Requirement already satisfied: google-cloud-storage<2.0.0dev,>=1.32.0 in /home/niveus2610-03/.local/lib/python3.8/site-packages (from google-cloud-aiplatform==1.7.0) (1.43.0)\n",
      "Requirement already satisfied: proto-plus>=1.10.1 in /home/niveus2610-03/.local/lib/python3.8/site-packages (from google-cloud-aiplatform==1.7.0) (1.19.8)\n",
      "Requirement already satisfied: packaging>=14.3 in /home/niveus2610-03/.local/lib/python3.8/site-packages (from google-cloud-aiplatform==1.7.0) (21.2)\n",
      "Requirement already satisfied: google-api-core[grpc]<3.0.0dev,>=1.26.0 in /home/niveus2610-03/.local/lib/python3.8/site-packages (from google-cloud-aiplatform==1.7.0) (1.31.4)\n",
      "Requirement already satisfied: google-cloud-bigquery<3.0.0dev,>=1.15.0 in /home/niveus2610-03/.local/lib/python3.8/site-packages (from google-cloud-aiplatform==1.7.0) (2.31.0)\n",
      "Requirement already satisfied: six>=1.13.0 in /home/niveus2610-03/anaconda3/envs/demo2/lib/python3.8/site-packages (from google-api-core[grpc]<3.0.0dev,>=1.26.0->google-cloud-aiplatform==1.7.0) (1.16.0)\n",
      "Requirement already satisfied: google-auth<2.0dev,>=1.25.0 in /home/niveus2610-03/.local/lib/python3.8/site-packages (from google-api-core[grpc]<3.0.0dev,>=1.26.0->google-cloud-aiplatform==1.7.0) (1.35.0)\n",
      "Requirement already satisfied: setuptools>=40.3.0 in /home/niveus2610-03/anaconda3/envs/demo2/lib/python3.8/site-packages (from google-api-core[grpc]<3.0.0dev,>=1.26.0->google-cloud-aiplatform==1.7.0) (58.0.4)\n",
      "Requirement already satisfied: pytz in /home/niveus2610-03/.local/lib/python3.8/site-packages (from google-api-core[grpc]<3.0.0dev,>=1.26.0->google-cloud-aiplatform==1.7.0) (2021.3)\n",
      "Requirement already satisfied: googleapis-common-protos<2.0dev,>=1.6.0 in /home/niveus2610-03/.local/lib/python3.8/site-packages (from google-api-core[grpc]<3.0.0dev,>=1.26.0->google-cloud-aiplatform==1.7.0) (1.53.0)\n",
      "Requirement already satisfied: protobuf>=3.12.0 in /home/niveus2610-03/.local/lib/python3.8/site-packages (from google-api-core[grpc]<3.0.0dev,>=1.26.0->google-cloud-aiplatform==1.7.0) (3.19.1)\n",
      "Requirement already satisfied: requests<3.0.0dev,>=2.18.0 in /home/niveus2610-03/.local/lib/python3.8/site-packages (from google-api-core[grpc]<3.0.0dev,>=1.26.0->google-cloud-aiplatform==1.7.0) (2.26.0)\n",
      "Requirement already satisfied: grpcio<2.0dev,>=1.29.0 in /home/niveus2610-03/.local/lib/python3.8/site-packages (from google-api-core[grpc]<3.0.0dev,>=1.26.0->google-cloud-aiplatform==1.7.0) (1.41.1)\n",
      "Requirement already satisfied: pyasn1-modules>=0.2.1 in /home/niveus2610-03/.local/lib/python3.8/site-packages (from google-auth<2.0dev,>=1.25.0->google-api-core[grpc]<3.0.0dev,>=1.26.0->google-cloud-aiplatform==1.7.0) (0.2.8)\n",
      "Requirement already satisfied: cachetools<5.0,>=2.0.0 in /home/niveus2610-03/.local/lib/python3.8/site-packages (from google-auth<2.0dev,>=1.25.0->google-api-core[grpc]<3.0.0dev,>=1.26.0->google-cloud-aiplatform==1.7.0) (4.2.4)\n",
      "Requirement already satisfied: rsa<5,>=3.1.4 in /home/niveus2610-03/.local/lib/python3.8/site-packages (from google-auth<2.0dev,>=1.25.0->google-api-core[grpc]<3.0.0dev,>=1.26.0->google-cloud-aiplatform==1.7.0) (4.7.2)\n",
      "Requirement already satisfied: google-cloud-core<3.0.0dev,>=1.4.1 in /home/niveus2610-03/.local/lib/python3.8/site-packages (from google-cloud-bigquery<3.0.0dev,>=1.15.0->google-cloud-aiplatform==1.7.0) (1.7.2)\n",
      "Requirement already satisfied: python-dateutil<3.0dev,>=2.7.2 in /home/niveus2610-03/.local/lib/python3.8/site-packages (from google-cloud-bigquery<3.0.0dev,>=1.15.0->google-cloud-aiplatform==1.7.0) (2.8.2)\n",
      "Requirement already satisfied: google-resumable-media<3.0dev,>=0.6.0 in /home/niveus2610-03/.local/lib/python3.8/site-packages (from google-cloud-bigquery<3.0.0dev,>=1.15.0->google-cloud-aiplatform==1.7.0) (2.1.0)\n",
      "Requirement already satisfied: google-crc32c<2.0dev,>=1.0 in /home/niveus2610-03/.local/lib/python3.8/site-packages (from google-resumable-media<3.0dev,>=0.6.0->google-cloud-bigquery<3.0.0dev,>=1.15.0->google-cloud-aiplatform==1.7.0) (1.3.0)\n",
      "Requirement already satisfied: pyparsing<3,>=2.0.2 in /home/niveus2610-03/.local/lib/python3.8/site-packages (from packaging>=14.3->google-cloud-aiplatform==1.7.0) (2.4.7)\n",
      "Requirement already satisfied: pyasn1<0.5.0,>=0.4.6 in /home/niveus2610-03/.local/lib/python3.8/site-packages (from pyasn1-modules>=0.2.1->google-auth<2.0dev,>=1.25.0->google-api-core[grpc]<3.0.0dev,>=1.26.0->google-cloud-aiplatform==1.7.0) (0.4.8)\n",
      "Requirement already satisfied: certifi>=2017.4.17 in /home/niveus2610-03/anaconda3/envs/demo2/lib/python3.8/site-packages (from requests<3.0.0dev,>=2.18.0->google-api-core[grpc]<3.0.0dev,>=1.26.0->google-cloud-aiplatform==1.7.0) (2021.10.8)\n",
      "Requirement already satisfied: charset-normalizer~=2.0.0 in /home/niveus2610-03/.local/lib/python3.8/site-packages (from requests<3.0.0dev,>=2.18.0->google-api-core[grpc]<3.0.0dev,>=1.26.0->google-cloud-aiplatform==1.7.0) (2.0.7)\n",
      "Requirement already satisfied: idna<4,>=2.5 in /home/niveus2610-03/.local/lib/python3.8/site-packages (from requests<3.0.0dev,>=2.18.0->google-api-core[grpc]<3.0.0dev,>=1.26.0->google-cloud-aiplatform==1.7.0) (3.3)\n",
      "Requirement already satisfied: urllib3<1.27,>=1.21.1 in /home/niveus2610-03/.local/lib/python3.8/site-packages (from requests<3.0.0dev,>=2.18.0->google-api-core[grpc]<3.0.0dev,>=1.26.0->google-cloud-aiplatform==1.7.0) (1.26.7)\n",
      "Requirement already satisfied: kfp==1.8.9 in /home/niveus2610-03/anaconda3/envs/demo2/lib/python3.8/site-packages (1.8.9)\n",
      "Requirement already satisfied: google-cloud-pipeline-components==0.2.0 in /home/niveus2610-03/.local/lib/python3.8/site-packages (0.2.0)\n",
      "Requirement already satisfied: google-cloud-storage<2,>=1.20.0 in /home/niveus2610-03/.local/lib/python3.8/site-packages (from kfp==1.8.9) (1.43.0)\n",
      "Requirement already satisfied: typing-extensions<4,>=3.7.4 in /home/niveus2610-03/anaconda3/envs/demo2/lib/python3.8/site-packages (from kfp==1.8.9) (3.10.0.2)\n",
      "Requirement already satisfied: strip-hints<1,>=0.1.8 in /home/niveus2610-03/.local/lib/python3.8/site-packages (from kfp==1.8.9) (0.1.10)\n",
      "Requirement already satisfied: Deprecated<2,>=1.2.7 in /home/niveus2610-03/.local/lib/python3.8/site-packages (from kfp==1.8.9) (1.2.13)\n",
      "Requirement already satisfied: cloudpickle<3,>=2.0.0 in /home/niveus2610-03/.local/lib/python3.8/site-packages (from kfp==1.8.9) (2.0.0)\n",
      "Requirement already satisfied: fire<1,>=0.3.1 in /home/niveus2610-03/anaconda3/envs/demo2/lib/python3.8/site-packages (from kfp==1.8.9) (0.4.0)\n",
      "Requirement already satisfied: absl-py<=0.11,>=0.9 in /home/niveus2610-03/anaconda3/envs/demo2/lib/python3.8/site-packages (from kfp==1.8.9) (0.11.0)\n",
      "Requirement already satisfied: kfp-server-api<2.0.0,>=1.1.2 in /home/niveus2610-03/.local/lib/python3.8/site-packages (from kfp==1.8.9) (1.7.1)\n",
      "Requirement already satisfied: jsonschema<4,>=3.0.1 in /home/niveus2610-03/anaconda3/envs/demo2/lib/python3.8/site-packages (from kfp==1.8.9) (3.2.0)\n",
      "Requirement already satisfied: pydantic<2,>=1.8.2 in /home/niveus2610-03/anaconda3/envs/demo2/lib/python3.8/site-packages (from kfp==1.8.9) (1.8.2)\n",
      "Requirement already satisfied: click<9,>=7.1.2 in /home/niveus2610-03/.local/lib/python3.8/site-packages (from kfp==1.8.9) (8.0.3)\n",
      "Requirement already satisfied: docstring-parser<1,>=0.7.3 in /home/niveus2610-03/anaconda3/envs/demo2/lib/python3.8/site-packages (from kfp==1.8.9) (0.13)\n",
      "Requirement already satisfied: google-api-python-client<2,>=1.7.8 in /home/niveus2610-03/.local/lib/python3.8/site-packages (from kfp==1.8.9) (1.12.8)\n",
      "Requirement already satisfied: tabulate<1,>=0.8.6 in /home/niveus2610-03/.local/lib/python3.8/site-packages (from kfp==1.8.9) (0.8.9)\n",
      "Requirement already satisfied: kubernetes<19,>=8.0.0 in /home/niveus2610-03/.local/lib/python3.8/site-packages (from kfp==1.8.9) (11.0.0)\n",
      "Requirement already satisfied: protobuf<4,>=3.13.0 in /home/niveus2610-03/.local/lib/python3.8/site-packages (from kfp==1.8.9) (3.19.1)\n",
      "Requirement already satisfied: typer<1.0,>=0.3.2 in /home/niveus2610-03/anaconda3/envs/demo2/lib/python3.8/site-packages (from kfp==1.8.9) (0.4.0)\n",
      "Requirement already satisfied: uritemplate<4,>=3.0.1 in /home/niveus2610-03/.local/lib/python3.8/site-packages (from kfp==1.8.9) (3.0.1)\n",
      "Requirement already satisfied: requests-toolbelt<1,>=0.8.0 in /home/niveus2610-03/.local/lib/python3.8/site-packages (from kfp==1.8.9) (0.9.1)\n",
      "Requirement already satisfied: google-auth<2,>=1.6.1 in /home/niveus2610-03/.local/lib/python3.8/site-packages (from kfp==1.8.9) (1.35.0)\n",
      "Requirement already satisfied: kfp-pipeline-spec<0.2.0,>=0.1.13 in /home/niveus2610-03/anaconda3/envs/demo2/lib/python3.8/site-packages (from kfp==1.8.9) (0.1.13)\n",
      "Requirement already satisfied: PyYAML<6,>=5.3 in /home/niveus2610-03/anaconda3/envs/demo2/lib/python3.8/site-packages (from kfp==1.8.9) (5.4.1)\n",
      "Requirement already satisfied: google-cloud-aiplatform>=1.4.3 in /home/niveus2610-03/.local/lib/python3.8/site-packages (from google-cloud-pipeline-components==0.2.0) (1.7.0)\n",
      "Requirement already satisfied: google-cloud-notebooks>=0.4.0 in /home/niveus2610-03/.local/lib/python3.8/site-packages (from google-cloud-pipeline-components==0.2.0) (1.1.1)\n",
      "Requirement already satisfied: google-api-core<2dev,>=1.26.0 in /home/niveus2610-03/.local/lib/python3.8/site-packages (from google-cloud-pipeline-components==0.2.0) (1.31.4)\n",
      "Requirement already satisfied: six in /home/niveus2610-03/anaconda3/envs/demo2/lib/python3.8/site-packages (from absl-py<=0.11,>=0.9->kfp==1.8.9) (1.16.0)\n",
      "Requirement already satisfied: wrapt<2,>=1.10 in /home/niveus2610-03/.local/lib/python3.8/site-packages (from Deprecated<2,>=1.2.7->kfp==1.8.9) (1.13.3)\n",
      "Requirement already satisfied: termcolor in /home/niveus2610-03/.local/lib/python3.8/site-packages (from fire<1,>=0.3.1->kfp==1.8.9) (1.1.0)\n",
      "Requirement already satisfied: googleapis-common-protos<2.0dev,>=1.6.0 in /home/niveus2610-03/.local/lib/python3.8/site-packages (from google-api-core<2dev,>=1.26.0->google-cloud-pipeline-components==0.2.0) (1.53.0)\n",
      "Requirement already satisfied: packaging>=14.3 in /home/niveus2610-03/.local/lib/python3.8/site-packages (from google-api-core<2dev,>=1.26.0->google-cloud-pipeline-components==0.2.0) (21.2)\n",
      "Requirement already satisfied: requests<3.0.0dev,>=2.18.0 in /home/niveus2610-03/.local/lib/python3.8/site-packages (from google-api-core<2dev,>=1.26.0->google-cloud-pipeline-components==0.2.0) (2.26.0)\n",
      "Requirement already satisfied: setuptools>=40.3.0 in /home/niveus2610-03/anaconda3/envs/demo2/lib/python3.8/site-packages (from google-api-core<2dev,>=1.26.0->google-cloud-pipeline-components==0.2.0) (58.0.4)\n",
      "Requirement already satisfied: pytz in /home/niveus2610-03/.local/lib/python3.8/site-packages (from google-api-core<2dev,>=1.26.0->google-cloud-pipeline-components==0.2.0) (2021.3)\n",
      "Requirement already satisfied: httplib2<1dev,>=0.15.0 in /home/niveus2610-03/anaconda3/envs/demo2/lib/python3.8/site-packages (from google-api-python-client<2,>=1.7.8->kfp==1.8.9) (0.20.2)\n",
      "Requirement already satisfied: google-auth-httplib2>=0.0.3 in /home/niveus2610-03/.local/lib/python3.8/site-packages (from google-api-python-client<2,>=1.7.8->kfp==1.8.9) (0.1.0)\n",
      "Requirement already satisfied: cachetools<5.0,>=2.0.0 in /home/niveus2610-03/.local/lib/python3.8/site-packages (from google-auth<2,>=1.6.1->kfp==1.8.9) (4.2.4)\n",
      "Requirement already satisfied: rsa<5,>=3.1.4 in /home/niveus2610-03/.local/lib/python3.8/site-packages (from google-auth<2,>=1.6.1->kfp==1.8.9) (4.7.2)\n",
      "Requirement already satisfied: pyasn1-modules>=0.2.1 in /home/niveus2610-03/.local/lib/python3.8/site-packages (from google-auth<2,>=1.6.1->kfp==1.8.9) (0.2.8)\n",
      "Requirement already satisfied: proto-plus>=1.10.1 in /home/niveus2610-03/.local/lib/python3.8/site-packages (from google-cloud-aiplatform>=1.4.3->google-cloud-pipeline-components==0.2.0) (1.19.8)\n",
      "Requirement already satisfied: google-cloud-bigquery<3.0.0dev,>=1.15.0 in /home/niveus2610-03/.local/lib/python3.8/site-packages (from google-cloud-aiplatform>=1.4.3->google-cloud-pipeline-components==0.2.0) (2.31.0)\n",
      "Requirement already satisfied: grpcio<2.0dev,>=1.29.0 in /home/niveus2610-03/.local/lib/python3.8/site-packages (from google-api-core<2dev,>=1.26.0->google-cloud-pipeline-components==0.2.0) (1.41.1)\n",
      "Requirement already satisfied: google-resumable-media<3.0dev,>=0.6.0 in /home/niveus2610-03/.local/lib/python3.8/site-packages (from google-cloud-bigquery<3.0.0dev,>=1.15.0->google-cloud-aiplatform>=1.4.3->google-cloud-pipeline-components==0.2.0) (2.1.0)\n",
      "Requirement already satisfied: python-dateutil<3.0dev,>=2.7.2 in /home/niveus2610-03/.local/lib/python3.8/site-packages (from google-cloud-bigquery<3.0.0dev,>=1.15.0->google-cloud-aiplatform>=1.4.3->google-cloud-pipeline-components==0.2.0) (2.8.2)\n",
      "Requirement already satisfied: google-cloud-core<3.0.0dev,>=1.4.1 in /home/niveus2610-03/.local/lib/python3.8/site-packages (from google-cloud-bigquery<3.0.0dev,>=1.15.0->google-cloud-aiplatform>=1.4.3->google-cloud-pipeline-components==0.2.0) (1.7.2)\n",
      "Requirement already satisfied: google-crc32c<2.0dev,>=1.0 in /home/niveus2610-03/.local/lib/python3.8/site-packages (from google-resumable-media<3.0dev,>=0.6.0->google-cloud-bigquery<3.0.0dev,>=1.15.0->google-cloud-aiplatform>=1.4.3->google-cloud-pipeline-components==0.2.0) (1.3.0)\n",
      "Requirement already satisfied: pyparsing!=3.0.0,!=3.0.1,!=3.0.2,!=3.0.3,<4,>=2.4.2 in /home/niveus2610-03/.local/lib/python3.8/site-packages (from httplib2<1dev,>=0.15.0->google-api-python-client<2,>=1.7.8->kfp==1.8.9) (2.4.7)\n",
      "Requirement already satisfied: pyrsistent>=0.14.0 in /home/niveus2610-03/.local/lib/python3.8/site-packages (from jsonschema<4,>=3.0.1->kfp==1.8.9) (0.18.0)\n",
      "Requirement already satisfied: attrs>=17.4.0 in /home/niveus2610-03/.local/lib/python3.8/site-packages (from jsonschema<4,>=3.0.1->kfp==1.8.9) (21.2.0)\n",
      "Requirement already satisfied: certifi in /home/niveus2610-03/anaconda3/envs/demo2/lib/python3.8/site-packages (from kfp-server-api<2.0.0,>=1.1.2->kfp==1.8.9) (2021.10.8)\n",
      "Requirement already satisfied: urllib3>=1.15 in /home/niveus2610-03/.local/lib/python3.8/site-packages (from kfp-server-api<2.0.0,>=1.1.2->kfp==1.8.9) (1.26.7)\n",
      "Requirement already satisfied: websocket-client!=0.40.0,!=0.41.*,!=0.42.*,>=0.32.0 in /home/niveus2610-03/.local/lib/python3.8/site-packages (from kubernetes<19,>=8.0.0->kfp==1.8.9) (1.2.1)\n",
      "Requirement already satisfied: requests-oauthlib in /home/niveus2610-03/.local/lib/python3.8/site-packages (from kubernetes<19,>=8.0.0->kfp==1.8.9) (1.3.0)\n",
      "Requirement already satisfied: pyasn1<0.5.0,>=0.4.6 in /home/niveus2610-03/.local/lib/python3.8/site-packages (from pyasn1-modules>=0.2.1->google-auth<2,>=1.6.1->kfp==1.8.9) (0.4.8)\n",
      "Requirement already satisfied: idna<4,>=2.5 in /home/niveus2610-03/.local/lib/python3.8/site-packages (from requests<3.0.0dev,>=2.18.0->google-api-core<2dev,>=1.26.0->google-cloud-pipeline-components==0.2.0) (3.3)\n",
      "Requirement already satisfied: charset-normalizer~=2.0.0 in /home/niveus2610-03/.local/lib/python3.8/site-packages (from requests<3.0.0dev,>=2.18.0->google-api-core<2dev,>=1.26.0->google-cloud-pipeline-components==0.2.0) (2.0.7)\n",
      "Requirement already satisfied: wheel in /home/niveus2610-03/anaconda3/envs/demo2/lib/python3.8/site-packages (from strip-hints<1,>=0.1.8->kfp==1.8.9) (0.37.0)\n",
      "Requirement already satisfied: oauthlib>=3.0.0 in /home/niveus2610-03/.local/lib/python3.8/site-packages (from requests-oauthlib->kubernetes<19,>=8.0.0->kfp==1.8.9) (3.1.1)\n"
     ]
    }
   ],
   "source": [
    "!pip3 install {USER_FLAG} google-cloud-aiplatform==1.7.0 --upgrade\n",
    "!pip3 install {USER_FLAG} kfp==1.8.9 google-cloud-pipeline-components==0.2.0"
   ]
  },
  {
   "cell_type": "code",
   "execution_count": 3,
   "id": "bd3931bf-7b30-4b24-81ba-5c80576705c7",
   "metadata": {},
   "outputs": [],
   "source": [
    "import os\n",
    "\n",
    "if not os.getenv(\"IS_TESTING\"):\n",
    "    # Automatically restart kernel after installs\n",
    "    import IPython\n",
    "\n",
    "    app = IPython.Application.instance()\n",
    "    app.kernel.do_shutdown(True)"
   ]
  },
  {
   "cell_type": "code",
   "execution_count": 1,
   "id": "3ba9a1b3-d293-4ec9-a135-34ae0188ada5",
   "metadata": {},
   "outputs": [
    {
     "name": "stdout",
     "output_type": "stream",
     "text": [
      "KFP SDK version: 1.8.9\n",
      "google_cloud_pipeline_components version: 0.2.0\n"
     ]
    }
   ],
   "source": [
    "!python3 -c \"import kfp; print('KFP SDK version: {}'.format(kfp.__version__))\"\n",
    "!python3 -c \"import google_cloud_pipeline_components; print('google_cloud_pipeline_components version: {}'.format(google_cloud_pipeline_components.__version__))\""
   ]
  },
  {
   "cell_type": "code",
   "execution_count": 2,
   "id": "1b501a68-d00a-478e-bcc7-1b0c4244f776",
   "metadata": {},
   "outputs": [
    {
     "name": "stdout",
     "output_type": "stream",
     "text": [
      "Project ID:  niveustraining\n"
     ]
    }
   ],
   "source": [
    "import os\n",
    "PROJECT_ID = \"\"\n",
    "\n",
    "# Get your Google Cloud project ID from gcloud\n",
    "if not os.getenv(\"IS_TESTING\"):\n",
    "    shell_output=!gcloud config list --format 'value(core.project)' 2>/dev/null\n",
    "    PROJECT_ID = shell_output[0]\n",
    "    print(\"Project ID: \", PROJECT_ID)"
   ]
  },
  {
   "cell_type": "code",
   "execution_count": 3,
   "id": "319a9c03-8af2-489b-bbdb-5647ad5f8d93",
   "metadata": {},
   "outputs": [],
   "source": [
    "BUCKET_NAME=\"gs://\" + \"black-friday-demo-bucket\""
   ]
  },
  {
   "cell_type": "code",
   "execution_count": 4,
   "id": "c73904ba-846f-4447-8f01-721957a89068",
   "metadata": {},
   "outputs": [],
   "source": [
    "import kfp\n",
    "from kfp.v2 import compiler, dsl\n",
    "from kfp.v2.dsl import component, pipeline, Artifact, ClassificationMetrics, Input, Output, Model, Metrics, Dataset, Markdown\n",
    "from google.cloud import aiplatform"
   ]
  },
  {
   "cell_type": "code",
   "execution_count": 5,
   "id": "ab2e7cfc-39fd-4222-bea2-06ad19a5e355",
   "metadata": {},
   "outputs": [
    {
     "name": "stdout",
     "output_type": "stream",
     "text": [
      "env: PATH=/home/niveus2610-03/anaconda3/envs/demo2/bin:/home/niveus2610-03/anaconda3/condabin:/home/niveus2610-03/.local/bin:/usr/local/sbin:/usr/local/bin:/usr/sbin:/usr/bin:/sbin:/bin:/usr/games:/usr/local/games:/snap/bin:/home/jupyter/.local/bin\n"
     ]
    },
    {
     "data": {
      "text/plain": [
       "'gs://black-friday-demo-bucket/pipeline-root/'"
      ]
     },
     "execution_count": 5,
     "metadata": {},
     "output_type": "execute_result"
    }
   ],
   "source": [
    "PATH=%env PATH\n",
    "%env PATH={PATH}:/home/jupyter/.local/bin\n",
    "REGION=\"us-central1\"\n",
    "\n",
    "PIPELINE_ROOT = f\"{BUCKET_NAME}/pipeline-root/\"\n",
    "PIPELINE_ROOT"
   ]
  },
  {
   "cell_type": "code",
   "execution_count": 6,
   "id": "99aac0a7-f31c-46ff-bc9c-9fbfb3a14e54",
   "metadata": {},
   "outputs": [],
   "source": [
    "@component(\n",
    "    base_image=\"python:3.8-slim\",\n",
    "    output_component_file=\"./components/get-data/component.yml\",\n",
    "    packages_to_install=[\"pandas\", \"fsspec\", \"gcsfs\"]\n",
    ")\n",
    "def get_data(\n",
    "    dataset: Output[Dataset],\n",
    "    Columns: Output[Metrics]\n",
    "):\n",
    "    from pandas import read_csv\n",
    "\n",
    "    df = read_csv('gs://black-friday-demo-bucket/dataset/train.csv')\n",
    "\n",
    "    df.to_csv(dataset.uri, index=False)\n",
    "    \n",
    "    Columns.log_metric(\"columns\", str(df.columns.tolist()))\n"
   ]
  },
  {
   "cell_type": "code",
   "execution_count": 7,
   "id": "a379d464-de4f-4151-a5bd-3e50db6ad244",
   "metadata": {},
   "outputs": [],
   "source": [
    "@component(\n",
    "    base_image=\"python:3.8-slim\",\n",
    "    output_component_file=\"./components/clean-data/component.yml\",\n",
    "    packages_to_install=[\"pandas\", \"np\", \"sklearn\", \"fsspec\", \"gcsfs\"]\n",
    ")\n",
    "def clean_data(\n",
    "    dataset: Input[Dataset],\n",
    "    cleaned_data: Output[Artifact],\n",
    "    column_transformer: Output[Artifact],\n",
    "    label_encoder: Output[Artifact],\n",
    "    dataset_data: Output[Markdown]\n",
    "):\n",
    "    import json\n",
    "    import numpy as np\n",
    "    import pandas as pd\n",
    "    from pickle import dump\n",
    "    from sklearn.impute import SimpleImputer\n",
    "    from sklearn.compose import ColumnTransformer\n",
    "    from sklearn.preprocessing import LabelEncoder, OneHotEncoder\n",
    "\n",
    "    df = pd.read_csv(dataset.uri)\n",
    "    df.drop(['User_ID', 'Product_ID', 'Product_Category_3'], axis=1, inplace=True)\n",
    "    # Split the data into independent and dependent variables and remove unnecessary columns\n",
    "    x = df.iloc[:, :-1].values\n",
    "    y = df.iloc[:, -1].values\n",
    "    \n",
    "    json_data = json.dumps({\"dataset\":[{_: df[_].unique().tolist()}for _ in df.drop(['Purchase'], axis=1).columns.tolist()]}, indent=4)\n",
    "    \n",
    "    markdown_content = f\"\"\"\n",
    "    ```json\n",
    "    {json_data}\n",
    "    ```\n",
    "    \"\"\"\n",
    "    \n",
    "    with open(dataset_data.path, 'w') as f:\n",
    "        f.write(markdown_content)\n",
    "\n",
    "    #Encode Gender column\n",
    "    le = LabelEncoder()\n",
    "    x[:, 0] = le.fit_transform(x[:, 0])\n",
    "\n",
    "    # Fill NaN values in Product_Category_2 column \n",
    "    imputer = SimpleImputer(missing_values=np.nan, strategy='median')\n",
    "    x[:, 7] = imputer.fit_transform(x[:, 7].reshape(-1, 1)).reshape(1, -1)[0]\n",
    "\n",
    "    # Onehot encode the Age, City_Category, Stay_In_Current_City_Years columns\n",
    "    ct = ColumnTransformer(transformers=[('encoder', OneHotEncoder(), [1, 3, 4])], remainder='passthrough')\n",
    "    x = ct.fit_transform(x)\n",
    "\n",
    "    # Merge the dataset to pass it to the next component\n",
    "    x = pd.DataFrame(x)\n",
    "    y = pd.DataFrame(y)\n",
    "    data = pd.concat([x,y], axis=1)\n",
    "\n",
    "    # Write the data to a csv file\n",
    "    data.to_csv(path_or_buf=cleaned_data.path, index=False)\n",
    "\n",
    "    # Write the column transformer object into a file\n",
    "    with open(column_transformer.path, 'wb') as output_file:\n",
    "        dump(ct, output_file)\n",
    "\n",
    "    with open(label_encoder.path, 'wb') as output_file:\n",
    "        dump(le, output_file)"
   ]
  },
  {
   "cell_type": "code",
   "execution_count": 8,
   "id": "c6cdd31d-c4b7-44b6-80c6-645f6fa1eed9",
   "metadata": {},
   "outputs": [],
   "source": [
    "@component(\n",
    "    packages_to_install=[\"pandas\", \"np\", \"sklearn\", \"fsspec\", \"gcsfs\"],\n",
    "    base_image=\"python:3.8-slim\",\n",
    "    output_component_file=\"./components/feature-scale/component.yml\"\n",
    ")\n",
    "def feature_scale(\n",
    "    cleaned_data: Input[Artifact],\n",
    "    x_train_artifact: Output[Artifact],\n",
    "    y_train_artifact: Output[Artifact],\n",
    "    x_test_artifact: Output[Artifact],\n",
    "    y_test_artifact: Output[Artifact],\n",
    "    standard_scaler: Output[Artifact]\n",
    "):\n",
    "    from pickle import dump\n",
    "    from pandas import DataFrame, read_csv\n",
    "    from sklearn.preprocessing import StandardScaler\n",
    "    from sklearn.model_selection import train_test_split\n",
    "\n",
    "    df = read_csv(cleaned_data.uri)\n",
    "\n",
    "    x = df.iloc[:, :-1].values\n",
    "    y = df.iloc[:, -1].values\n",
    "\n",
    "    x_train, x_test, y_train, y_test = train_test_split(x, y, test_size = 0.2)\n",
    "\n",
    "    sc = StandardScaler()\n",
    "    x_train = sc.fit_transform(x_train)\n",
    "    x_test = sc.transform(x_test)\n",
    "\n",
    "    DataFrame(x_train).to_csv(x_train_artifact.uri, index=False)\n",
    "    DataFrame(y_train).to_csv(y_train_artifact.uri, index=False)\n",
    "    DataFrame(x_test).to_csv(x_test_artifact.uri, index=False)\n",
    "    DataFrame(y_test).to_csv(y_test_artifact.uri, index=False)\n",
    "\n",
    "    with open(standard_scaler.path, 'wb') as output_file:\n",
    "        dump(sc, output_file)"
   ]
  },
  {
   "cell_type": "code",
   "execution_count": 9,
   "id": "965aeb17-941f-48c0-b776-07ed7d6d85bc",
   "metadata": {},
   "outputs": [],
   "source": [
    "@component(\n",
    "    packages_to_install=[\"pandas\", \"sklearn\", \"fsspec\", \"gcsfs\"],\n",
    "    base_image=\"python:3.8-slim\",\n",
    "    output_component_file=\"./components/linear-regression/train/component.yml\"\n",
    ")\n",
    "def linear_regression_train(\n",
    "    x_train_artifact: Input[Artifact],\n",
    "    y_train_artifact: Input[Artifact],\n",
    "    model: Output[Model]\n",
    "):\n",
    "    import pickle\n",
    "    from pandas import read_csv\n",
    "    from sklearn.linear_model import LinearRegression\n",
    "\n",
    "    x_train = read_csv(x_train_artifact.uri)\n",
    "    y_train = read_csv(y_train_artifact.uri)\n",
    "\n",
    "    linear_regressor = LinearRegression()\n",
    "    linear_regressor.fit(x_train, y_train)\n",
    "\n",
    "    # with open(linear_regression_model.path, 'wb') as f:\n",
    "    #     pickle.dump(linear_regressor, f)    \n",
    "    with open(model.path + '.pkl', 'wb') as f:\n",
    "        pickle.dump(linear_regressor, f)\n",
    "    "
   ]
  },
  {
   "cell_type": "code",
   "execution_count": 10,
   "id": "ca6251a7-4ed4-4c97-88eb-4d15dcad1762",
   "metadata": {},
   "outputs": [],
   "source": [
    "@component(\n",
    "    packages_to_install=[\"pandas\", \"sklearn\", \"fsspec\", \"gcsfs\"],\n",
    "    base_image=\"python:3.8-slim\",\n",
    "    output_component_file=\"./components/linear-regression/test/component.yml\"\n",
    ")\n",
    "def linear_regression_test(\n",
    "    linear_regression_model: Input[Model],\n",
    "    x_test_artifact: Input[Artifact],\n",
    "    y_test_artifact: Input[Artifact],\n",
    "    MSE: Output[Metrics],\n",
    "    MAE: Output[Metrics]\n",
    "):\n",
    "    import pickle\n",
    "    from pandas import read_csv\n",
    "    from sklearn.metrics import mean_squared_error, mean_absolute_error\n",
    "    \n",
    "    with open(linear_regression_model.path + '.pkl', 'rb') as f:\n",
    "        linear_regressor = pickle.load(f)\n",
    "        \n",
    "    x_test = read_csv(x_test_artifact.uri)\n",
    "    y_test = read_csv(y_test_artifact.uri)\n",
    "\n",
    "    y_pred = linear_regressor.predict(x_test)\n",
    "\n",
    "    mae = mean_absolute_error(y_pred, y_test)\n",
    "    mse = mean_squared_error(y_pred, y_test)\n",
    "    output_accuracy = f\"\\nLinear Regression\\nMean Absolute Error: {mae}\\nMean Squared Error: {mse}\\n\"\n",
    "    \n",
    "    MSE.log_metric(\"Mean Squared Error\", float(mse))    \n",
    "    MAE.log_metric(\"Mean Absolute Error\", float(mae))\n",
    "    \n",
    "    linear_regression_model.metadata[\"Mean Squared Error\"] = float(mse)    \n",
    "    linear_regression_model.metadata[\"Mean Absolute Error\"] = float(mae)"
   ]
  },
  {
   "cell_type": "code",
   "execution_count": 11,
   "id": "d6025083-5c49-485b-93c6-6bfb4c97eb77",
   "metadata": {},
   "outputs": [],
   "source": [
    "@component(\n",
    "    packages_to_install=['google-cloud-aiplatform', 'sklearn'],\n",
    "    base_image=\"python:3.8-slim\",\n",
    "    output_component_file=\"./components/linear-regression/deploy/component.yml\"\n",
    ")\n",
    "def deploy(\n",
    "    Model: Input[Model],\n",
    "    model: Output[Model]\n",
    "):\n",
    "    import time\n",
    "    from google.cloud import aiplatform\n",
    "    \n",
    "    TIME_STAMP = str(int(time.time()))\n",
    "    DISPLAY_NAME = f\"blackfriday-price-prediction-{TIME_STAMP}\"\n",
    "    MODEL_NAME = f\"black-friday-model-{TIME_STAMP}\"\n",
    "    ENDPOINT_NAME = f\"black-friday-endpoint-{TIME_STAMP}\"\n",
    "    PROJECT = 'niveustraining'\n",
    "    REGION = 'us-central1'\n",
    "    \n",
    "    aiplatform.init(project=PROJECT, location=REGION)\n",
    "    \n",
    "    endpoint = aiplatform.Endpoint.create(\n",
    "        display_name=ENDPOINT_NAME,\n",
    "        project=PROJECT,\n",
    "        location=REGION\n",
    "    )\n",
    "    \n",
    "    model_upload = aiplatform.Model.upload(\n",
    "        display_name=DISPLAY_NAME,\n",
    "        artifact_uri=Model.uri.replace(\"model\", \"\"),\n",
    "        serving_container_image_uri=\"us-docker.pkg.dev/vertex-ai/prediction/sklearn-cpu.0-24:latest\",\n",
    "        serving_container_health_route=f\"/v1/models/{MODEL_NAME}\",\n",
    "        serving_container_predict_route=f\"/v1/models/{MODEL_NAME}:predict\",\n",
    "        serving_container_environment_variables={\n",
    "            \"MODEL_NAME\": MODEL_NAME,\n",
    "        }\n",
    "    )\n",
    "    \n",
    "    model_deploy = model_upload.deploy(\n",
    "        machine_type=\"n1-standard-4\", \n",
    "        endpoint=endpoint,\n",
    "        traffic_split={\"0\": 100},\n",
    "        deployed_model_display_name=DISPLAY_NAME,\n",
    "    )\n",
    "    \n",
    "    model.uri = model_deploy.resource_name"
   ]
  },
  {
   "cell_type": "code",
   "execution_count": 12,
   "id": "352ec0bd-e7b4-4b09-8474-62793d7fa4a8",
   "metadata": {},
   "outputs": [],
   "source": [
    "@pipeline(\n",
    "    name=\"black-friday\",\n",
    "    pipeline_root=PIPELINE_ROOT\n",
    ")\n",
    "def pipeline():\n",
    "    get_data_task=get_data()\n",
    "    clean_data_task=clean_data(get_data_task.outputs[\"dataset\"])\n",
    "    feature_scale_task=feature_scale(clean_data_task.outputs[\"cleaned_data\"])\n",
    "    linear_regression_train_task=linear_regression_train(feature_scale_task.outputs[\"x_train_artifact\"], feature_scale_task.outputs[\"y_train_artifact\"])\n",
    "    linear_regression_test_task=linear_regression_test(linear_regression_train_task.outputs[\"model\"], feature_scale_task.outputs[\"x_train_artifact\"], feature_scale_task.outputs[\"y_train_artifact\"])\n",
    "    deployment_task=deploy(linear_regression_train_task.outputs[\"model\"])"
   ]
  },
  {
   "cell_type": "code",
   "execution_count": 13,
   "id": "e301103b-080c-4600-87db-4ea6ac56384d",
   "metadata": {},
   "outputs": [
    {
     "name": "stderr",
     "output_type": "stream",
     "text": [
      "/home/niveus2610-03/anaconda3/envs/demo2/lib/python3.8/site-packages/kfp/v2/compiler/compiler.py:1263: FutureWarning: APIs imported from the v1 namespace (e.g. kfp.dsl, kfp.components, etc) will not be supported by the v2 compiler since v2.0.0\n",
      "  warnings.warn(\n"
     ]
    }
   ],
   "source": [
    "compiler.Compiler().compile(\n",
    "    pipeline_func=pipeline, package_path=\"pipeline.json\"\n",
    ")"
   ]
  },
  {
   "cell_type": "code",
   "execution_count": 14,
   "id": "aa767e7b-f0e4-4cb5-addb-3934c048506e",
   "metadata": {},
   "outputs": [],
   "source": [
    "from datetime import datetime\n",
    "\n",
    "TIMESTAMP = datetime.now().strftime(\"%Y%m%d%H%M%S\")"
   ]
  },
  {
   "cell_type": "code",
   "execution_count": null,
   "id": "2992656e-0782-4624-b034-cba28df34bd2",
   "metadata": {},
   "outputs": [],
   "source": [
    "job = aiplatform.PipelineJob(\n",
    "    display_name=\"black-friday-pipeline\",\n",
    "    template_path=\"pipeline.json\",\n",
    "    job_id=\"black-friday-{0}\".format(TIMESTAMP),\n",
    "    enable_caching=True\n",
    ")"
   ]
  },
  {
   "cell_type": "code",
   "execution_count": 371,
   "id": "0f4e88a3-40cd-4d0d-84f2-0acd4f1c4fb6",
   "metadata": {},
   "outputs": [
    {
     "name": "stdout",
     "output_type": "stream",
     "text": [
      "INFO:google.cloud.aiplatform.pipeline_jobs:Creating PipelineJob\n",
      "INFO:google.cloud.aiplatform.pipeline_jobs:PipelineJob created. Resource name: projects/866354246469/locations/us-central1/pipelineJobs/black-friday-20220114110557\n",
      "INFO:google.cloud.aiplatform.pipeline_jobs:To use this PipelineJob in another session:\n",
      "INFO:google.cloud.aiplatform.pipeline_jobs:pipeline_job = aiplatform.PipelineJob.get('projects/866354246469/locations/us-central1/pipelineJobs/black-friday-20220114110557')\n",
      "INFO:google.cloud.aiplatform.pipeline_jobs:View Pipeline Job:\n",
      "https://console.cloud.google.com/vertex-ai/locations/us-central1/pipelines/runs/black-friday-20220114110557?project=866354246469\n"
     ]
    }
   ],
   "source": [
    "job.submit()"
   ]
  }
 ],
 "metadata": {
  "environment": {
   "kernel": "python3",
   "name": "common-cpu.m87",
   "type": "gcloud",
   "uri": "gcr.io/deeplearning-platform-release/base-cpu:m87"
  },
  "kernelspec": {
   "display_name": "Python 3",
   "language": "python",
   "name": "python3"
  },
  "language_info": {
   "codemirror_mode": {
    "name": "ipython",
    "version": 3
   },
   "file_extension": ".py",
   "mimetype": "text/x-python",
   "name": "python",
   "nbconvert_exporter": "python",
   "pygments_lexer": "ipython3",
   "version": "3.7.12"
  }
 },
 "nbformat": 4,
 "nbformat_minor": 5
}
